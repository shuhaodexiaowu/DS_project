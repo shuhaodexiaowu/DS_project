{
 "cells": [
  {
   "cell_type": "code",
   "execution_count": 1,
   "metadata": {},
   "outputs": [],
   "source": [
    "import numpy as np\n",
    "source1 = \"F:/MSc DS/Project/dms/trained_dms_txt/bert2dm-pca.txt\"\n",
    "source2 = \"F:/MSc DS/Project/dms/trained_dms_txt/bert2dm-pca-cls.txt\"\n",
    "source3 = \"F:/MSc DS/Project/dms/trained_dms_txt/bert2dm-svd.txt\"\n",
    "source4 = \"F:/MSc DS/Project/dms/trained_dms_txt/bert2dm-svd-cls.txt\"\n",
    "source5 = \"F:/MSc DS/Project/dms/trained_dms_txt/ms-word2dm-c5.txt\"\n",
    "source6 = \"F:/MSc DS/Project/dms/trained_dms_txt/ms-word2dm-c10.txt\"\n",
    "source7 = \"F:/MSc DS/Project/dms/trained_dms_txt/ms-word2dm-d5.txt\"\n",
    "source8 = \"F:/MSc DS/Project/dms/trained_dms_txt/ms-word2dm-d10.txt\"\n",
    "source9 = \"F:/MSc DS/Project/dms/trained_dms_txt/word2dm.txt\"\n",
    "\n",
    "# dim = 17 #\n",
    "\n",
    "def get_dict_from_source(source = source5,dim =17):\n",
    "    if source ==source1 or source==source3:\n",
    "        dim = 15\n",
    "    whole =[]\n",
    "\n",
    "    with open(source) as f:\n",
    "        for line in f:\n",
    "            linelist = line.split()\n",
    "            for a in linelist:\n",
    "                whole.append(a)\n",
    "    chunk = dim**2+1\n",
    "    n = len(whole)/chunk\n",
    "    voc = []\n",
    "    for i in range(int(n)):\n",
    "        voc.append(whole[i * chunk])\n",
    "    dic = {}\n",
    "    for i in range(int(n)):\n",
    "        voc.append(whole[i * chunk])\n",
    "    dic = {}\n",
    "    for i in range(int(n)):\n",
    "        a = whole[i * chunk + 1:(i + 1) * chunk]\n",
    "        a = np.array(a, dtype='float')\n",
    "        a.resize([dim, dim])\n",
    "        dic[voc[i]] = a\n",
    "\n",
    "    return dic\n",
    "\n",
    "def ke(a, b):\n",
    "    dim = a.shape[0]\n",
    "    m = b-a\n",
    "    eig,_ = np.linalg.eig(m)\n",
    "    n =len(eig)\n",
    "    for i in range(n):\n",
    "        if eig[i] >=0:\n",
    "            eig[i]=0\n",
    "        else:\n",
    "            eig[i]=-eig[i]\n",
    "    e= np.eye(dim,dtype= float)\n",
    "    for i in range(dim):\n",
    "        e[i][i]=eig[i]\n",
    "    \n",
    "    Ke = 1-np.linalg.norm(e)/np.linalg.norm(a)\n",
    "    return Ke\n",
    "\n",
    "def halfmatrix(m):\n",
    "    eig,vec = np.linalg.eig(m)\n",
    "    n = len(eig)\n",
    "    for i in range(n):\n",
    "        if eig[i]<0:\n",
    "            eig[i]=0\n",
    "    eignew = eig**0.5\n",
    "    dim = m.shape[0]\n",
    "    e = np.eye(dim)\n",
    "    for i in range(dim):\n",
    "        e[i][i] =eignew[i]\n",
    "    vec_T = np.linalg.inv(vec)\n",
    "    half = vec@e@vec_T\n",
    "    return half\n",
    "\n",
    "def compute_Ke(listA,listB, dic, method ='add'):\n",
    "    '''\n",
    "    imput two phrase or sentences lists\n",
    "    tokenize each pair and get new dm using composition method\n",
    "    compute Ke pred for each pair\n",
    "    if oov set Ke to oov  # after test all in voc\n",
    "\n",
    "    composition method\n",
    "    add or pointwise\n",
    "    '''\n",
    "\n",
    "    n = len(listA)\n",
    "    if method == 'add':\n",
    "        Ke_list = []\n",
    "        for i in range(n):\n",
    "            phraseA = listA[i].split()\n",
    "            phraseB = listB[i].split()\n",
    "            newA = dic[phraseA[0].lower()] + dic[phraseA[1].lower()]\n",
    "            newB = dic[phraseB[0].lower()] + dic[phraseB[1].lower()]\n",
    "            Ke_list.append(ke(newA, newB))\n",
    "\n",
    "    if method == 'pointwise':\n",
    "        Ke_list = []\n",
    "        for i in range(n):\n",
    "            phraseA = listA[i].split()\n",
    "            phraseB = listB[i].split()\n",
    "            newA = dic[phraseA[0].lower()] * dic[phraseA[1].lower()]\n",
    "            newB = dic[phraseB[0].lower()] * dic[phraseB[1].lower()]\n",
    "            Ke_list.append(ke(newA, newB))\n",
    "            \n",
    "    if method == 'dot':\n",
    "        Ke_list = []\n",
    "        for i in range(n):\n",
    "            phraseA = listA[i].split()\n",
    "            phraseB = listB[i].split()\n",
    "            newA = dic[phraseA[0].lower()]@dic[phraseA[1].lower()]\n",
    "            newB = dic[phraseB[0].lower()]@dic[phraseB[1].lower()]\n",
    "            Ke_list.append(ke(newA, newB))\n",
    "    \n",
    "    if method == 'mult':\n",
    "        Ke_list = []\n",
    "        for i in range(n):\n",
    "            phraseA = listA[i].split()\n",
    "            phraseB = listB[i].split()\n",
    "            v1 = dic[phraseA[0].lower()]\n",
    "            n1 = dic[phraseA[1].lower()]\n",
    "            v2 = dic[phraseB[0].lower()]\n",
    "            n2 = dic[phraseB[1].lower()]\n",
    "            newA = halfmatrix(n1)*v1*halfmatrix(n1)\n",
    "            newB = halfmatrix(n2)*v2*halfmatrix(n2)\n",
    "            Ke_list.append(ke(newA, newB))\n",
    "            \n",
    "    return Ke_list\n",
    "\n",
    "\n",
    "# get sv dataset\n",
    "dicA = []\n",
    "dicB = []\n",
    "val = []\n",
    "with open(\"F:/MSc DS/Project/compositional datasets/KS2016-VO.txt\") as f:\n",
    "    for line in f:\n",
    "        linelist = line.split(\",\")\n",
    "        dicA.append(linelist[0])\n",
    "        dicB.append(linelist[1])\n",
    "        val.append(linelist[2])\n",
    "\n",
    "# convert the T to 1 F to 0 in val list\n",
    "n = len(val)\n",
    "for i in range(n):\n",
    "    if val[i]=='T\\n':\n",
    "        val[i]=1\n",
    "    else:\n",
    "        val[i]=0\n",
    "# dicA  list to store the first phrase\n",
    "# dicB  list to store the second pharse\n",
    "# val  true val\n",
    "\n",
    "\n"
   ]
  },
  {
   "cell_type": "code",
   "execution_count": 2,
   "metadata": {},
   "outputs": [
    {
     "data": {
      "text/plain": [
       "1"
      ]
     },
     "execution_count": 2,
     "metadata": {},
     "output_type": "execute_result"
    }
   ],
   "source": [
    "# remove oov\n",
    "dicA.pop(254)\n",
    "dicB.pop(254)\n",
    "val.pop(254)\n"
   ]
  },
  {
   "cell_type": "code",
   "execution_count": 3,
   "metadata": {},
   "outputs": [
    {
     "data": {
      "text/plain": [
       "0"
      ]
     },
     "execution_count": 3,
     "metadata": {},
     "output_type": "execute_result"
    }
   ],
   "source": [
    "dicA.pop(254)\n",
    "dicB.pop(254)\n",
    "val.pop(254)"
   ]
  },
  {
   "cell_type": "code",
   "execution_count": 4,
   "metadata": {},
   "outputs": [
    {
     "name": "stdout",
     "output_type": "stream",
     "text": [
      "0.44849115504682624\n",
      "0.4764169976002888\n"
     ]
    }
   ],
   "source": [
    "dic1 = get_dict_from_source(source1)\n",
    "# add method\n",
    "pred = compute_Ke(dicA, dicB,dic1)\n",
    "from sklearn.metrics import roc_auc_score\n",
    "result = roc_auc_score(val, pred)\n",
    "print(result)\n",
    "# pointwise\n",
    "pred = compute_Ke(dicA, dicB,dic1,method='pointwise')\n",
    "from sklearn.metrics import roc_auc_score\n",
    "result = roc_auc_score(val, pred)\n",
    "print(result)"
   ]
  },
  {
   "cell_type": "code",
   "execution_count": 5,
   "metadata": {},
   "outputs": [
    {
     "name": "stdout",
     "output_type": "stream",
     "text": [
      "0.4933848669540657\n",
      "0.5385758882116842\n"
     ]
    }
   ],
   "source": [
    "dic1 = get_dict_from_source(source2)\n",
    "# add method\n",
    "pred = compute_Ke(dicA, dicB,dic1)\n",
    "from sklearn.metrics import roc_auc_score\n",
    "result = roc_auc_score(val, pred)\n",
    "print(result)\n",
    "# pointwise\n",
    "pred = compute_Ke(dicA, dicB,dic1,method='pointwise')\n",
    "from sklearn.metrics import roc_auc_score\n",
    "result = roc_auc_score(val, pred)\n",
    "print(result)"
   ]
  },
  {
   "cell_type": "code",
   "execution_count": 6,
   "metadata": {},
   "outputs": [
    {
     "name": "stdout",
     "output_type": "stream",
     "text": [
      "0.49397948565482386\n",
      "0.6045148548493279\n"
     ]
    }
   ],
   "source": [
    "dic1 = get_dict_from_source(source3)\n",
    "# add method\n",
    "pred = compute_Ke(dicA, dicB,dic1)\n",
    "from sklearn.metrics import roc_auc_score\n",
    "result = roc_auc_score(val, pred)\n",
    "print(result)\n",
    "# pointwise\n",
    "pred = compute_Ke(dicA, dicB,dic1,method='pointwise')\n",
    "from sklearn.metrics import roc_auc_score\n",
    "result = roc_auc_score(val, pred)\n",
    "print(result)"
   ]
  },
  {
   "cell_type": "code",
   "execution_count": 7,
   "metadata": {},
   "outputs": [
    {
     "name": "stdout",
     "output_type": "stream",
     "text": [
      "0.5034509121026142\n",
      "0.5207160908067702\n"
     ]
    }
   ],
   "source": [
    "dic1 = get_dict_from_source(source4)\n",
    "# add method\n",
    "pred = compute_Ke(dicA, dicB,dic1)\n",
    "from sklearn.metrics import roc_auc_score\n",
    "result = roc_auc_score(val, pred)\n",
    "print(result)\n",
    "# pointwise\n",
    "pred = compute_Ke(dicA, dicB,dic1,method='pointwise')\n",
    "from sklearn.metrics import roc_auc_score\n",
    "result = roc_auc_score(val, pred)\n",
    "print(result)"
   ]
  },
  {
   "cell_type": "code",
   "execution_count": 8,
   "metadata": {},
   "outputs": [
    {
     "name": "stdout",
     "output_type": "stream",
     "text": [
      "0.49109133767971286\n",
      "0.4418866401919769\n"
     ]
    }
   ],
   "source": [
    "dic1 = get_dict_from_source(source5)\n",
    "# add method\n",
    "pred = compute_Ke(dicA, dicB,dic1)\n",
    "from sklearn.metrics import roc_auc_score\n",
    "result = roc_auc_score(val, pred)\n",
    "print(result)\n",
    "# pointwise\n",
    "pred = compute_Ke(dicA, dicB,dic1,method='pointwise')\n",
    "from sklearn.metrics import roc_auc_score\n",
    "result = roc_auc_score(val, pred)\n",
    "print(result)"
   ]
  },
  {
   "cell_type": "code",
   "execution_count": 9,
   "metadata": {},
   "outputs": [
    {
     "name": "stdout",
     "output_type": "stream",
     "text": [
      "0.4797086368366286\n",
      "0.46055342011934847\n"
     ]
    }
   ],
   "source": [
    "dic1 = get_dict_from_source(source6)\n",
    "# add method\n",
    "pred = compute_Ke(dicA, dicB,dic1)\n",
    "from sklearn.metrics import roc_auc_score\n",
    "result = roc_auc_score(val, pred)\n",
    "print(result)\n",
    "# pointwise\n",
    "pred = compute_Ke(dicA, dicB,dic1,method='pointwise')\n",
    "from sklearn.metrics import roc_auc_score\n",
    "result = roc_auc_score(val, pred)\n",
    "print(result)"
   ]
  },
  {
   "cell_type": "code",
   "execution_count": 10,
   "metadata": {},
   "outputs": [
    {
     "name": "stdout",
     "output_type": "stream",
     "text": [
      "0.4728068126314001\n",
      "0.41948225700269703\n"
     ]
    }
   ],
   "source": [
    "dic1 = get_dict_from_source(source7)\n",
    "# add method\n",
    "pred = compute_Ke(dicA, dicB,dic1)\n",
    "from sklearn.metrics import roc_auc_score\n",
    "result = roc_auc_score(val, pred)\n",
    "print(result)\n",
    "# pointwise\n",
    "pred = compute_Ke(dicA, dicB,dic1,method='pointwise')\n",
    "from sklearn.metrics import roc_auc_score\n",
    "result = roc_auc_score(val, pred)\n",
    "print(result)"
   ]
  },
  {
   "cell_type": "code",
   "execution_count": 11,
   "metadata": {},
   "outputs": [
    {
     "name": "stdout",
     "output_type": "stream",
     "text": [
      "0.45651850750706113\n",
      "0.39828834759710335\n"
     ]
    }
   ],
   "source": [
    "dic1 = get_dict_from_source(source8)\n",
    "# add method\n",
    "pred = compute_Ke(dicA, dicB,dic1)\n",
    "from sklearn.metrics import roc_auc_score\n",
    "result = roc_auc_score(val, pred)\n",
    "print(result)\n",
    "# pointwise\n",
    "pred = compute_Ke(dicA, dicB,dic1,method='pointwise')\n",
    "from sklearn.metrics import roc_auc_score\n",
    "result = roc_auc_score(val, pred)\n",
    "print(result)"
   ]
  },
  {
   "cell_type": "code",
   "execution_count": 12,
   "metadata": {},
   "outputs": [
    {
     "name": "stdout",
     "output_type": "stream",
     "text": [
      "0.49701628830512423\n",
      "0.49463781350209174\n"
     ]
    }
   ],
   "source": [
    "dic1 = get_dict_from_source(source9)\n",
    "# add method\n",
    "pred = compute_Ke(dicA, dicB,dic1)\n",
    "from sklearn.metrics import roc_auc_score\n",
    "result = roc_auc_score(val, pred)\n",
    "print(result)\n",
    "# pointwise\n",
    "pred = compute_Ke(dicA, dicB,dic1,method='pointwise')\n",
    "from sklearn.metrics import roc_auc_score\n",
    "result = roc_auc_score(val, pred)\n",
    "print(result)"
   ]
  },
  {
   "cell_type": "code",
   "execution_count": null,
   "metadata": {},
   "outputs": [],
   "source": []
  }
 ],
 "metadata": {
  "kernelspec": {
   "display_name": "Python 3",
   "language": "python",
   "name": "python3"
  },
  "language_info": {
   "codemirror_mode": {
    "name": "ipython",
    "version": 3
   },
   "file_extension": ".py",
   "mimetype": "text/x-python",
   "name": "python",
   "nbconvert_exporter": "python",
   "pygments_lexer": "ipython3",
   "version": "3.7.4"
  }
 },
 "nbformat": 4,
 "nbformat_minor": 2
}
