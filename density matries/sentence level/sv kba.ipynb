{
 "cells": [
  {
   "cell_type": "code",
   "execution_count": 4,
   "metadata": {},
   "outputs": [],
   "source": [
    "import numpy as np\n"
   ]
  },
  {
   "cell_type": "code",
   "execution_count": 5,
   "metadata": {},
   "outputs": [],
   "source": [
    "from sklearn.metrics import roc_auc_score"
   ]
  },
  {
   "cell_type": "code",
   "execution_count": null,
   "metadata": {},
   "outputs": [],
   "source": []
  },
  {
   "cell_type": "code",
   "execution_count": 6,
   "metadata": {},
   "outputs": [],
   "source": [
    "import numpy as np\n",
    "source1 = \"F:/MSc DS/Project/dms/trained_dms_txt/bert2dm-pca.txt\"\n",
    "source2 = \"F:/MSc DS/Project/dms/trained_dms_txt/bert2dm-pca-cls.txt\"\n",
    "source3 = \"F:/MSc DS/Project/dms/trained_dms_txt/bert2dm-svd.txt\"\n",
    "source4 = \"F:/MSc DS/Project/dms/trained_dms_txt/bert2dm-svd-cls.txt\"\n",
    "source5 = \"F:/MSc DS/Project/dms/trained_dms_txt/ms-word2dm-c5.txt\"\n",
    "source6 = \"F:/MSc DS/Project/dms/trained_dms_txt/ms-word2dm-c10.txt\"\n",
    "source7 = \"F:/MSc DS/Project/dms/trained_dms_txt/ms-word2dm-d5.txt\"\n",
    "source8 = \"F:/MSc DS/Project/dms/trained_dms_txt/ms-word2dm-d10.txt\"\n",
    "source9 = \"F:/MSc DS/Project/dms/trained_dms_txt/word2dm.txt\"\n",
    "\n",
    "# dim = 17 #\n",
    "\n",
    "def get_dict_from_source(source = source5,dim =17):\n",
    "    if source ==source1 or source==source3:\n",
    "        dim = 15\n",
    "    whole =[]\n",
    "\n",
    "    with open(source) as f:\n",
    "        for line in f:\n",
    "            linelist = line.split()\n",
    "            for a in linelist:\n",
    "                whole.append(a)\n",
    "    chunk = dim**2+1\n",
    "    n = len(whole)/chunk\n",
    "    voc = []\n",
    "    for i in range(int(n)):\n",
    "        voc.append(whole[i * chunk])\n",
    "    dic = {}\n",
    "    for i in range(int(n)):\n",
    "        voc.append(whole[i * chunk])\n",
    "    dic = {}\n",
    "    for i in range(int(n)):\n",
    "        a = whole[i * chunk + 1:(i + 1) * chunk]\n",
    "        a = np.array(a, dtype='float')\n",
    "        a.resize([dim, dim])\n",
    "        dic[voc[i]] = a\n",
    "\n",
    "    return dic\n",
    "\n",
    "def kba(a, b):\n",
    "    m = b-a\n",
    "    eig,_ = np.linalg.eig(m)\n",
    "    Kba = sum(eig)/sum(abs(eig))\n",
    "    return Kba\n",
    "\n",
    "def compute_Kba(listA,listB, dic, method ='add'):\n",
    "    '''\n",
    "    imput two phrase or sentences lists\n",
    "    tokenize each pair and get new dm using composition method\n",
    "    compute Ke pred for each pair\n",
    "    if oov set Ke to oov  # after test all in voc\n",
    "\n",
    "    composition method\n",
    "    add or pointwise\n",
    "    '''\n",
    "\n",
    "    n = len(listA)\n",
    "    if method == 'add':\n",
    "        Kba_list = []\n",
    "        for i in range(n):\n",
    "            phraseA = listA[i].split()\n",
    "            phraseB = listB[i].split()\n",
    "            newA = dic[phraseA[0].lower()] + dic[phraseA[1].lower()]\n",
    "            newB = dic[phraseB[0].lower()] + dic[phraseB[1].lower()]\n",
    "            Kba_list.append(kba(newA, newB))\n",
    "\n",
    "    if method == 'pointwise':\n",
    "        Kba_list = []\n",
    "        for i in range(n):\n",
    "            phraseA = listA[i].split()\n",
    "            phraseB = listB[i].split()\n",
    "            newA = dic[phraseA[0].lower()] * dic[phraseA[1].lower()]\n",
    "            newB = dic[phraseB[0].lower()] * dic[phraseB[1].lower()]\n",
    "            Kba_list.append(kba(newA, newB))\n",
    "    return Kba_list\n",
    "\n",
    "\n",
    "# get sv dataset\n",
    "# get sv dataset\n",
    "dicA = []\n",
    "dicB = []\n",
    "val = []\n",
    "with open(\"F:/MSc DS/Project/compositional datasets/KS2016-SV.txt\") as f:\n",
    "    for line in f:\n",
    "        linelist = line.split(\",\")\n",
    "        dicA.append(linelist[0])\n",
    "        dicB.append(linelist[1])\n",
    "        val.append(linelist[2])\n",
    "\n",
    "# convert the T to 1 F to 0 in val list\n",
    "n = len(val)\n",
    "for i in range(n):\n",
    "    if val[i]=='T\\n':\n",
    "        val[i]=1\n",
    "    else:\n",
    "        val[i]=0\n",
    "# dicA  list to store the first phrase\n",
    "# dicB  list to store the second pharse\n",
    "# val  true val\n",
    "\n",
    "\n",
    "# test different source with different composition methods\n",
    "\n"
   ]
  },
  {
   "cell_type": "code",
   "execution_count": 7,
   "metadata": {},
   "outputs": [
    {
     "name": "stdout",
     "output_type": "stream",
     "text": [
      "0.4809327846364883\n",
      "0.4712757201646091\n"
     ]
    }
   ],
   "source": [
    "\n",
    "# source1\n",
    "dic1 = get_dict_from_source(source1)\n",
    "# add method\n",
    "pred = compute_Kba(dicA, dicB,dic1)\n",
    "from sklearn.metrics import roc_auc_score\n",
    "result = roc_auc_score(val, pred)\n",
    "print(result)\n",
    "pred = compute_Kba(dicA, dicB,dic1,method='pointwise')\n",
    "from sklearn.metrics import roc_auc_score\n",
    "result = roc_auc_score(val, pred)\n",
    "print(result)"
   ]
  },
  {
   "cell_type": "code",
   "execution_count": 8,
   "metadata": {},
   "outputs": [
    {
     "name": "stdout",
     "output_type": "stream",
     "text": [
      "0.533278463648834\n",
      "0.5911659807956104\n"
     ]
    }
   ],
   "source": [
    "dic1 = get_dict_from_source(source2)\n",
    "# add method\n",
    "pred = compute_Kba(dicA, dicB,dic1)\n",
    "result = roc_auc_score(val, pred)\n",
    "print(result)\n",
    "pred = compute_Kba(dicA, dicB,dic1,method='pointwise')\n",
    "result = roc_auc_score(val, pred)\n",
    "print(result)"
   ]
  },
  {
   "cell_type": "code",
   "execution_count": 9,
   "metadata": {},
   "outputs": [
    {
     "name": "stdout",
     "output_type": "stream",
     "text": [
      "0.5230178326474623\n",
      "0.6052126200274348\n"
     ]
    }
   ],
   "source": [
    "dic1 = get_dict_from_source(source3)\n",
    "# add method\n",
    "pred = compute_Kba(dicA, dicB,dic1)\n",
    "result = roc_auc_score(val, pred)\n",
    "print(result)\n",
    "pred = compute_Kba(dicA, dicB,dic1,method='pointwise')\n",
    "result = roc_auc_score(val, pred)\n",
    "print(result)"
   ]
  },
  {
   "cell_type": "code",
   "execution_count": 10,
   "metadata": {},
   "outputs": [
    {
     "name": "stdout",
     "output_type": "stream",
     "text": [
      "0.5531961591220851\n",
      "0.6352812071330589\n"
     ]
    }
   ],
   "source": [
    "dic1 = get_dict_from_source(source4)\n",
    "# add method\n",
    "pred = compute_Kba(dicA, dicB,dic1)\n",
    "result = roc_auc_score(val, pred)\n",
    "print(result)\n",
    "pred = compute_Kba(dicA, dicB,dic1,method='pointwise')\n",
    "result = roc_auc_score(val, pred)\n",
    "print(result)"
   ]
  },
  {
   "cell_type": "code",
   "execution_count": 11,
   "metadata": {},
   "outputs": [
    {
     "name": "stdout",
     "output_type": "stream",
     "text": [
      "0.5663648834019204\n",
      "0.4709465020576132\n"
     ]
    }
   ],
   "source": [
    "dic1 = get_dict_from_source(source5)\n",
    "# add method\n",
    "pred = compute_Kba(dicA, dicB,dic1)\n",
    "result = roc_auc_score(val, pred)\n",
    "print(result)\n",
    "pred = compute_Kba(dicA, dicB,dic1,method='pointwise')\n",
    "result = roc_auc_score(val, pred)\n",
    "print(result)"
   ]
  },
  {
   "cell_type": "code",
   "execution_count": 12,
   "metadata": {},
   "outputs": [
    {
     "name": "stdout",
     "output_type": "stream",
     "text": [
      "0.4193689986282579\n",
      "0.25591220850480106\n"
     ]
    }
   ],
   "source": [
    "dic1 = get_dict_from_source(source6)\n",
    "# add method\n",
    "pred = compute_Kba(dicA, dicB,dic1)\n",
    "result = roc_auc_score(val, pred)\n",
    "print(result)\n",
    "pred = compute_Kba(dicA, dicB,dic1,method='pointwise')\n",
    "result = roc_auc_score(val, pred)\n",
    "print(result)"
   ]
  },
  {
   "cell_type": "code",
   "execution_count": 13,
   "metadata": {},
   "outputs": [
    {
     "name": "stdout",
     "output_type": "stream",
     "text": [
      "0.46611796982167353\n",
      "0.28460905349794235\n"
     ]
    }
   ],
   "source": [
    "dic1 = get_dict_from_source(source7)\n",
    "# add method\n",
    "pred = compute_Kba(dicA, dicB,dic1)\n",
    "result = roc_auc_score(val, pred)\n",
    "print(result)\n",
    "pred = compute_Kba(dicA, dicB,dic1,method='pointwise')\n",
    "result = roc_auc_score(val, pred)\n",
    "print(result)"
   ]
  },
  {
   "cell_type": "code",
   "execution_count": 14,
   "metadata": {},
   "outputs": [
    {
     "name": "stdout",
     "output_type": "stream",
     "text": [
      "0.618161865569273\n",
      "0.31495198902606314\n"
     ]
    }
   ],
   "source": [
    "dic1 = get_dict_from_source(source8)\n",
    "# add method\n",
    "pred = compute_Kba(dicA, dicB,dic1)\n",
    "result = roc_auc_score(val, pred)\n",
    "print(result)\n",
    "pred = compute_Kba(dicA, dicB,dic1,method='pointwise')\n",
    "result = roc_auc_score(val, pred)\n",
    "print(result)"
   ]
  },
  {
   "cell_type": "code",
   "execution_count": 15,
   "metadata": {},
   "outputs": [
    {
     "name": "stdout",
     "output_type": "stream",
     "text": [
      "0.5569821673525377\n",
      "0.4024691358024691\n"
     ]
    }
   ],
   "source": [
    "dic1 = get_dict_from_source(source9)\n",
    "# add method\n",
    "pred = compute_Kba(dicA, dicB,dic1)\n",
    "result = roc_auc_score(val, pred)\n",
    "print(result)\n",
    "pred = compute_Kba(dicA, dicB,dic1,method='pointwise')\n",
    "result = roc_auc_score(val, pred)\n",
    "print(result)"
   ]
  },
  {
   "cell_type": "code",
   "execution_count": null,
   "metadata": {},
   "outputs": [],
   "source": []
  }
 ],
 "metadata": {
  "kernelspec": {
   "display_name": "Python 3",
   "language": "python",
   "name": "python3"
  },
  "language_info": {
   "codemirror_mode": {
    "name": "ipython",
    "version": 3
   },
   "file_extension": ".py",
   "mimetype": "text/x-python",
   "name": "python",
   "nbconvert_exporter": "python",
   "pygments_lexer": "ipython3",
   "version": "3.7.4"
  }
 },
 "nbformat": 4,
 "nbformat_minor": 2
}
