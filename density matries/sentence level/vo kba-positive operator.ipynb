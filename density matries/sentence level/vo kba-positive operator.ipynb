{
 "cells": [
  {
   "cell_type": "code",
   "execution_count": 1,
   "metadata": {},
   "outputs": [],
   "source": [
    "import numpy as np\n",
    "source1 = \"F:/MSc DS/Project/dms/trained_dms_txt/bert2dm-pca.txt\"\n",
    "source2 = \"F:/MSc DS/Project/dms/trained_dms_txt/bert2dm-pca-cls.txt\"\n",
    "source3 = \"F:/MSc DS/Project/dms/trained_dms_txt/bert2dm-svd.txt\"\n",
    "source4 = \"F:/MSc DS/Project/dms/trained_dms_txt/bert2dm-svd-cls.txt\"\n",
    "source5 = \"F:/MSc DS/Project/dms/trained_dms_txt/ms-word2dm-c5.txt\"\n",
    "source6 = \"F:/MSc DS/Project/dms/trained_dms_txt/ms-word2dm-c10.txt\"\n",
    "source7 = \"F:/MSc DS/Project/dms/trained_dms_txt/ms-word2dm-d5.txt\"\n",
    "source8 = \"F:/MSc DS/Project/dms/trained_dms_txt/ms-word2dm-d10.txt\"\n",
    "source9 = \"F:/MSc DS/Project/dms/trained_dms_txt/word2dm.txt\"\n",
    "\n",
    "\n",
    "\n",
    "def get_dict_from_source(source = source5):\n",
    "    dim =17\n",
    "    if source ==source1 or source==source3:\n",
    "        dim = 15\n",
    "    whole =[]\n",
    "\n",
    "    with open(source) as f:\n",
    "        for line in f:\n",
    "            linelist = line.split()\n",
    "            for a in linelist:\n",
    "                whole.append(a)\n",
    "    chunk = dim**2+1\n",
    "    n = len(whole)/chunk\n",
    "    voc = []\n",
    "    for i in range(int(n)):\n",
    "        voc.append(whole[i * chunk])\n",
    "    dic = {}\n",
    "    for i in range(int(n)):\n",
    "        voc.append(whole[i * chunk])\n",
    "    dic = {}\n",
    "    for i in range(int(n)):\n",
    "        a = whole[i * chunk + 1:(i + 1) * chunk]\n",
    "        a = np.array(a, dtype='float')\n",
    "        a.resize([dim, dim])\n",
    "        value,_ = np.linalg.eig(a)\n",
    "        maxeig = max(value)\n",
    "        dic[voc[i]] = a/maxeig\n",
    "\n",
    "    return dic\n",
    "\n",
    "\n",
    "def kba(a, b):\n",
    "    m = b-a\n",
    "    eig,_ = np.linalg.eig(m)\n",
    "    Kba = sum(eig)/sum(abs(eig))\n",
    "    return Kba\n",
    "\n",
    "def halfmatrix(m):\n",
    "    eig,vec = np.linalg.eig(m)\n",
    "    n = len(eig)\n",
    "    for i in range(n):\n",
    "        if eig[i]<0:\n",
    "            eig[i]=0\n",
    "    eignew = eig**0.5\n",
    "    dim = m.shape[0]\n",
    "    e = np.eye(dim)\n",
    "    for i in range(dim):\n",
    "        e[i][i] =eignew[i]\n",
    "    vec_T = np.linalg.inv(vec)\n",
    "    half = vec@e@vec_T\n",
    "    return half\n",
    "\n",
    "def compute_Kba(listA,listB, dic, method ='add'):\n",
    "    '''\n",
    "    imput two phrase or sentences lists\n",
    "    tokenize each pair and get new dm using composition method\n",
    "    compute Ke pred for each pair\n",
    "    if oov set Ke to oov  # after test all in voc\n",
    "\n",
    "    composition method\n",
    "    add or pointwise\n",
    "    '''\n",
    "\n",
    "    n = len(listA)\n",
    "    if method == 'add':\n",
    "        Kba_list = []\n",
    "        for i in range(n):\n",
    "            phraseA = listA[i].split()\n",
    "            phraseB = listB[i].split()\n",
    "            newA = dic[phraseA[0].lower()] + dic[phraseA[1].lower()]\n",
    "            newB = dic[phraseB[0].lower()] + dic[phraseB[1].lower()]\n",
    "            Kba_list.append(kba(newA, newB))\n",
    "\n",
    "    if method == 'pointwise':\n",
    "        Kba_list = []\n",
    "        for i in range(n):\n",
    "            phraseA = listA[i].split()\n",
    "            phraseB = listB[i].split()\n",
    "            newA = dic[phraseA[0].lower()] * dic[phraseA[1].lower()]\n",
    "            newB = dic[phraseB[0].lower()] * dic[phraseB[1].lower()]\n",
    "            Kba_list.append(kba(newA, newB))\n",
    "            \n",
    "#     if method == 'dot':\n",
    "#         Kba_list = []\n",
    "#         for i in range(n):\n",
    "#             phraseA = listA[i].split()\n",
    "#             phraseB = listB[i].split()\n",
    "#             newA = dic[phraseA[0].lower()]@dic[phraseA[1].lower()]\n",
    "#             newB = dic[phraseB[0].lower()]@dic[phraseB[1].lower()]\n",
    "#             Kba_list.append(kba(newA, newB))\n",
    "    \n",
    "    if method == 'mult':\n",
    "        Kba_list = []\n",
    "        for i in range(n):\n",
    "            phraseA = listA[i].split()\n",
    "            phraseB = listB[i].split()\n",
    "            v1 = dic[phraseA[0].lower()]\n",
    "            n1 = dic[phraseA[1].lower()]\n",
    "            v2 = dic[phraseB[0].lower()]\n",
    "            n2 = dic[phraseB[1].lower()]\n",
    "            newA = halfmatrix(n1)*v1*halfmatrix(n1)\n",
    "            newB = halfmatrix(n2)*v2*halfmatrix(n2)\n",
    "            Kba_list.append(kba(newA, newB))\n",
    "            \n",
    "    return Kba_list\n",
    "\n",
    "\n",
    "# get sv dataset\n",
    "dicA = []\n",
    "dicB = []\n",
    "val = []\n",
    "with open(\"F:/MSc DS/Project/compositional datasets/KS2016-VO.txt\") as f:\n",
    "    for line in f:\n",
    "        linelist = line.split(\",\")\n",
    "        dicA.append(linelist[0])\n",
    "        dicB.append(linelist[1])\n",
    "        val.append(linelist[2])\n",
    "\n",
    "# convert the T to 1 F to 0 in val list\n",
    "n = len(val)\n",
    "for i in range(n):\n",
    "    if val[i]=='T\\n':\n",
    "        val[i]=1\n",
    "    else:\n",
    "        val[i]=0\n",
    "# dicA  list to store the first phrase\n",
    "# dicB  list to store the second pharse\n",
    "# val  true val\n",
    "\n",
    "\n"
   ]
  },
  {
   "cell_type": "code",
   "execution_count": 2,
   "metadata": {},
   "outputs": [
    {
     "data": {
      "text/plain": [
       "1"
      ]
     },
     "execution_count": 2,
     "metadata": {},
     "output_type": "execute_result"
    }
   ],
   "source": [
    "# remove oov\n",
    "dicA.pop(254)\n",
    "dicB.pop(254)\n",
    "val.pop(254)\n"
   ]
  },
  {
   "cell_type": "code",
   "execution_count": 3,
   "metadata": {},
   "outputs": [
    {
     "data": {
      "text/plain": [
       "0"
      ]
     },
     "execution_count": 3,
     "metadata": {},
     "output_type": "execute_result"
    }
   ],
   "source": [
    "dicA.pop(254)\n",
    "dicB.pop(254)\n",
    "val.pop(254)"
   ]
  },
  {
   "cell_type": "code",
   "execution_count": 4,
   "metadata": {},
   "outputs": [
    {
     "name": "stdout",
     "output_type": "stream",
     "text": [
      "0.6385780118499013\n",
      "0.6212491239992355\n"
     ]
    }
   ],
   "source": [
    "dic1 = get_dict_from_source(source1)\n",
    "# add method\n",
    "pred = compute_Kba(dicA, dicB,dic1)\n",
    "from sklearn.metrics import roc_auc_score\n",
    "result = roc_auc_score(val, pred)\n",
    "print(result)\n",
    "# pointwise\n",
    "pred = compute_Kba(dicA, dicB,dic1,method='pointwise')\n",
    "from sklearn.metrics import roc_auc_score\n",
    "result = roc_auc_score(val, pred)\n",
    "print(result)"
   ]
  },
  {
   "cell_type": "code",
   "execution_count": 5,
   "metadata": {},
   "outputs": [
    {
     "name": "stdout",
     "output_type": "stream",
     "text": [
      "0.430334048291533\n",
      "0.582089235277878\n"
     ]
    }
   ],
   "source": [
    "dic1 = get_dict_from_source(source2)\n",
    "# add method\n",
    "pred = compute_Kba(dicA, dicB,dic1)\n",
    "from sklearn.metrics import roc_auc_score\n",
    "result = roc_auc_score(val, pred)\n",
    "print(result)\n",
    "# pointwise\n",
    "pred = compute_Kba(dicA, dicB,dic1,method='pointwise')\n",
    "from sklearn.metrics import roc_auc_score\n",
    "result = roc_auc_score(val, pred)\n",
    "print(result)"
   ]
  },
  {
   "cell_type": "code",
   "execution_count": 6,
   "metadata": {},
   "outputs": [
    {
     "name": "stdout",
     "output_type": "stream",
     "text": [
      "0.4849964959969419\n",
      "0.6596232665803055\n"
     ]
    }
   ],
   "source": [
    "dic1 = get_dict_from_source(source3)\n",
    "# add method\n",
    "pred = compute_Kba(dicA, dicB,dic1)\n",
    "from sklearn.metrics import roc_auc_score\n",
    "result = roc_auc_score(val, pred)\n",
    "print(result)\n",
    "# pointwise\n",
    "pred = compute_Kba(dicA, dicB,dic1,method='pointwise')\n",
    "from sklearn.metrics import roc_auc_score\n",
    "result = roc_auc_score(val, pred)\n",
    "print(result)"
   ]
  },
  {
   "cell_type": "code",
   "execution_count": 7,
   "metadata": {},
   "outputs": [
    {
     "name": "stdout",
     "output_type": "stream",
     "text": [
      "0.46594746119051156\n",
      "0.5333942109622204\n"
     ]
    }
   ],
   "source": [
    "dic1 = get_dict_from_source(source4)\n",
    "# add method\n",
    "pred = compute_Kba(dicA, dicB,dic1)\n",
    "from sklearn.metrics import roc_auc_score\n",
    "result = roc_auc_score(val, pred)\n",
    "print(result)\n",
    "# pointwise\n",
    "pred = compute_Kba(dicA, dicB,dic1,method='pointwise')\n",
    "from sklearn.metrics import roc_auc_score\n",
    "result = roc_auc_score(val, pred)\n",
    "print(result)"
   ]
  },
  {
   "cell_type": "code",
   "execution_count": 8,
   "metadata": {},
   "outputs": [
    {
     "name": "stdout",
     "output_type": "stream",
     "text": [
      "0.668054110301769\n",
      "0.6111406060863471\n"
     ]
    }
   ],
   "source": [
    "dic1 = get_dict_from_source(source5)\n",
    "# add method\n",
    "pred = compute_Kba(dicA, dicB,dic1)\n",
    "from sklearn.metrics import roc_auc_score\n",
    "result = roc_auc_score(val, pred)\n",
    "print(result)\n",
    "# pointwise\n",
    "pred = compute_Kba(dicA, dicB,dic1,method='pointwise')\n",
    "from sklearn.metrics import roc_auc_score\n",
    "result = roc_auc_score(val, pred)\n",
    "print(result)"
   ]
  },
  {
   "cell_type": "code",
   "execution_count": 9,
   "metadata": {},
   "outputs": [
    {
     "name": "stdout",
     "output_type": "stream",
     "text": [
      "0.7253711057784197\n",
      "0.7056849795068912\n"
     ]
    }
   ],
   "source": [
    "dic1 = get_dict_from_source(source6)\n",
    "# add method\n",
    "pred = compute_Kba(dicA, dicB,dic1)\n",
    "from sklearn.metrics import roc_auc_score\n",
    "result = roc_auc_score(val, pred)\n",
    "print(result)\n",
    "# pointwise\n",
    "pred = compute_Kba(dicA, dicB,dic1,method='pointwise')\n",
    "from sklearn.metrics import roc_auc_score\n",
    "result = roc_auc_score(val, pred)\n",
    "print(result)"
   ]
  },
  {
   "cell_type": "code",
   "execution_count": 10,
   "metadata": {},
   "outputs": [
    {
     "name": "stdout",
     "output_type": "stream",
     "text": [
      "0.7283441992822103\n",
      "0.5878442948459301\n"
     ]
    }
   ],
   "source": [
    "dic1 = get_dict_from_source(source7)\n",
    "# add method\n",
    "pred = compute_Kba(dicA, dicB,dic1)\n",
    "from sklearn.metrics import roc_auc_score\n",
    "result = roc_auc_score(val, pred)\n",
    "print(result)\n",
    "# pointwise\n",
    "pred = compute_Kba(dicA, dicB,dic1,method='pointwise')\n",
    "from sklearn.metrics import roc_auc_score\n",
    "result = roc_auc_score(val, pred)\n",
    "print(result)"
   ]
  },
  {
   "cell_type": "code",
   "execution_count": 11,
   "metadata": {},
   "outputs": [
    {
     "name": "stdout",
     "output_type": "stream",
     "text": [
      "0.6995476650597804\n",
      "0.60381405423772\n"
     ]
    }
   ],
   "source": [
    "dic1 = get_dict_from_source(source8)\n",
    "# add method\n",
    "pred = compute_Kba(dicA, dicB,dic1)\n",
    "from sklearn.metrics import roc_auc_score\n",
    "result = roc_auc_score(val, pred)\n",
    "print(result)\n",
    "# pointwise\n",
    "pred = compute_Kba(dicA, dicB,dic1,method='pointwise')\n",
    "from sklearn.metrics import roc_auc_score\n",
    "result = roc_auc_score(val, pred)\n",
    "print(result)"
   ]
  },
  {
   "cell_type": "code",
   "execution_count": 12,
   "metadata": {},
   "outputs": [
    {
     "name": "stdout",
     "output_type": "stream",
     "text": [
      "0.49822676208881056\n",
      "0.4623372762216229\n"
     ]
    }
   ],
   "source": [
    "dic1 = get_dict_from_source(source9)\n",
    "# add method\n",
    "pred = compute_Kba(dicA, dicB,dic1)\n",
    "from sklearn.metrics import roc_auc_score\n",
    "result = roc_auc_score(val, pred)\n",
    "print(result)\n",
    "# pointwise\n",
    "pred = compute_Kba(dicA, dicB,dic1,method='pointwise')\n",
    "from sklearn.metrics import roc_auc_score\n",
    "result = roc_auc_score(val, pred)\n",
    "print(result)"
   ]
  },
  {
   "cell_type": "code",
   "execution_count": 5,
   "metadata": {},
   "outputs": [
    {
     "name": "stdout",
     "output_type": "stream",
     "text": [
      "0.6224383614007517\n"
     ]
    }
   ],
   "source": [
    "from sklearn.metrics import roc_auc_score\n",
    "dic1 = get_dict_from_source(source1)\n",
    "pred = compute_Kba(dicA, dicB,dic1,method='mult')\n",
    "result = roc_auc_score(val, pred)\n",
    "print(result)"
   ]
  },
  {
   "cell_type": "code",
   "execution_count": 6,
   "metadata": {},
   "outputs": [
    {
     "name": "stdout",
     "output_type": "stream",
     "text": [
      "0.6273864384463465\n"
     ]
    }
   ],
   "source": [
    "dic1 = get_dict_from_source(source2)\n",
    "pred = compute_Kba(dicA, dicB,dic1,method='mult')\n",
    "result = roc_auc_score(val, pred)\n",
    "print(result)"
   ]
  },
  {
   "cell_type": "code",
   "execution_count": 7,
   "metadata": {},
   "outputs": [
    {
     "name": "stdout",
     "output_type": "stream",
     "text": [
      "0.6283420756439932\n"
     ]
    }
   ],
   "source": [
    "dic1 = get_dict_from_source(source3)\n",
    "pred = compute_Kba(dicA, dicB,dic1,method='mult')\n",
    "result = roc_auc_score(val, pred)\n",
    "print(result)"
   ]
  },
  {
   "cell_type": "code",
   "execution_count": 8,
   "metadata": {},
   "outputs": [
    {
     "name": "stdout",
     "output_type": "stream",
     "text": [
      "0.5229459109346132\n"
     ]
    }
   ],
   "source": [
    "dic1 = get_dict_from_source(source4)\n",
    "pred = compute_Kba(dicA, dicB,dic1,method='mult')\n",
    "result = roc_auc_score(val, pred)\n",
    "print(result)"
   ]
  },
  {
   "cell_type": "code",
   "execution_count": 9,
   "metadata": {},
   "outputs": [
    {
     "name": "stdout",
     "output_type": "stream",
     "text": [
      "0.5922614623372763\n"
     ]
    }
   ],
   "source": [
    "dic1 = get_dict_from_source(source5)\n",
    "pred = compute_Kba(dicA, dicB,dic1,method='mult')\n",
    "result = roc_auc_score(val, pred)\n",
    "print(result)"
   ]
  },
  {
   "cell_type": "code",
   "execution_count": 10,
   "metadata": {},
   "outputs": [
    {
     "name": "stdout",
     "output_type": "stream",
     "text": [
      "0.6959587164730617\n"
     ]
    }
   ],
   "source": [
    "dic1 = get_dict_from_source(source6)\n",
    "pred = compute_Kba(dicA, dicB,dic1,method='mult')\n",
    "result = roc_auc_score(val, pred)\n",
    "print(result)"
   ]
  },
  {
   "cell_type": "code",
   "execution_count": 11,
   "metadata": {},
   "outputs": [
    {
     "name": "stdout",
     "output_type": "stream",
     "text": [
      "0.5668839856442056\n"
     ]
    }
   ],
   "source": [
    "dic1 = get_dict_from_source(source7)\n",
    "pred = compute_Kba(dicA, dicB,dic1,method='mult')\n",
    "result = roc_auc_score(val, pred)\n",
    "print(result)"
   ]
  },
  {
   "cell_type": "code",
   "execution_count": 12,
   "metadata": {},
   "outputs": [
    {
     "name": "stdout",
     "output_type": "stream",
     "text": [
      "0.6049183461105566\n"
     ]
    }
   ],
   "source": [
    "dic1 = get_dict_from_source(source8)\n",
    "pred = compute_Kba(dicA, dicB,dic1,method='mult')\n",
    "result = roc_auc_score(val, pred)\n",
    "print(result)"
   ]
  },
  {
   "cell_type": "code",
   "execution_count": 13,
   "metadata": {},
   "outputs": [
    {
     "name": "stdout",
     "output_type": "stream",
     "text": [
      "0.48096158338465456\n"
     ]
    }
   ],
   "source": [
    "dic1 = get_dict_from_source(source9)\n",
    "pred = compute_Kba(dicA, dicB,dic1,method='mult')\n",
    "result = roc_auc_score(val, pred)\n",
    "print(result)"
   ]
  },
  {
   "cell_type": "code",
   "execution_count": null,
   "metadata": {},
   "outputs": [],
   "source": []
  }
 ],
 "metadata": {
  "kernelspec": {
   "display_name": "Python 3",
   "language": "python",
   "name": "python3"
  },
  "language_info": {
   "codemirror_mode": {
    "name": "ipython",
    "version": 3
   },
   "file_extension": ".py",
   "mimetype": "text/x-python",
   "name": "python",
   "nbconvert_exporter": "python",
   "pygments_lexer": "ipython3",
   "version": "3.7.4"
  }
 },
 "nbformat": 4,
 "nbformat_minor": 2
}
