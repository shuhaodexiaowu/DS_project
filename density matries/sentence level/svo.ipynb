{
 "cells": [
  {
   "cell_type": "code",
   "execution_count": 1,
   "metadata": {},
   "outputs": [],
   "source": [
    "import numpy as np\n",
    "source1 = \"F:/MSc DS/Project/dms/trained_dms_txt/bert2dm-pca.txt\"\n",
    "source2 = \"F:/MSc DS/Project/dms/trained_dms_txt/bert2dm-pca-cls.txt\"\n",
    "source3 = \"F:/MSc DS/Project/dms/trained_dms_txt/bert2dm-svd.txt\"\n",
    "source4 = \"F:/MSc DS/Project/dms/trained_dms_txt/bert2dm-svd-cls.txt\"\n",
    "source5 = \"F:/MSc DS/Project/dms/trained_dms_txt/ms-word2dm-c5.txt\"\n",
    "source6 = \"F:/MSc DS/Project/dms/trained_dms_txt/ms-word2dm-c10.txt\"\n",
    "source7 = \"F:/MSc DS/Project/dms/trained_dms_txt/ms-word2dm-d5.txt\"\n",
    "source8 = \"F:/MSc DS/Project/dms/trained_dms_txt/ms-word2dm-d10.txt\"\n",
    "source9 = \"F:/MSc DS/Project/dms/trained_dms_txt/word2dm.txt\"\n",
    "\n",
    "def get_dict_from_source(source = source5):\n",
    "    dim =17\n",
    "    if source ==source1 or source==source3:\n",
    "        dim = 15\n",
    "    whole =[]\n",
    "\n",
    "    with open(source) as f:\n",
    "        for line in f:\n",
    "            linelist = line.split()\n",
    "            for a in linelist:\n",
    "                whole.append(a)\n",
    "    chunk = dim**2+1\n",
    "    n = len(whole)/chunk\n",
    "    voc = []\n",
    "    for i in range(int(n)):\n",
    "        voc.append(whole[i * chunk])\n",
    "    dic = {}\n",
    "    for i in range(int(n)):\n",
    "        voc.append(whole[i * chunk])\n",
    "    dic = {}\n",
    "    for i in range(int(n)):\n",
    "        a = whole[i * chunk + 1:(i + 1) * chunk]\n",
    "        a = np.array(a, dtype='float')\n",
    "        a.resize([dim, dim])\n",
    "        dic[voc[i]] = a\n",
    "\n",
    "    return dic\n",
    "\n",
    "\n",
    "def ke(a, b):\n",
    "    dim = a.shape[0]\n",
    "    m = b - a\n",
    "    eig, _ = np.linalg.eig(m)\n",
    "    n = len(eig)\n",
    "    for i in range(n):\n",
    "        if eig[i] >= 0:\n",
    "            eig[i] = 0\n",
    "        else:\n",
    "            eig[i] = -eig[i]\n",
    "    e = np.eye(dim, dtype=float)\n",
    "    for i in range(dim):\n",
    "        e[i][i] = eig[i]\n",
    "\n",
    "    Ke = 1 - np.linalg.norm(e) / np.linalg.norm(a)\n",
    "    return Ke\n",
    "\n",
    "def compute_Ke(listA,listB, dic, method ='add'):\n",
    "    '''\n",
    "    imput two phrase or sentences lists\n",
    "    tokenize each pair and get new dm using composition method\n",
    "    compute Ke pred for each pair\n",
    "    if oov set Ke to oov  # after test all in voc\n",
    "\n",
    "    composition method\n",
    "    add or pointwise\n",
    "    '''\n",
    "\n",
    "    n = len(listA)\n",
    "    if method == 'add':\n",
    "        Ke_list = []\n",
    "        for i in range(n):\n",
    "            phraseA = listA[i].split()\n",
    "            phraseB = listB[i].split()\n",
    "            newA = dic[phraseA[0].lower()] + dic[phraseA[1].lower()] + dic[phraseA[2].lower()]\n",
    "            newB = dic[phraseB[0].lower()] + dic[phraseB[1].lower()] + dic[phraseB[2].lower()]\n",
    "            Ke_list.append(ke(newA, newB))\n",
    "\n",
    "    if method == 'pointwise':\n",
    "        Ke_list = []\n",
    "        for i in range(n):\n",
    "            phraseA = listA[i].split()\n",
    "            phraseB = listB[i].split()\n",
    "            newA = dic[phraseA[0].lower()] * dic[phraseA[1].lower()] * dic[phraseA[2].lower()]\n",
    "            newB = dic[phraseB[0].lower()] * dic[phraseB[1].lower()] * dic[phraseB[2].lower()]\n",
    "            Ke_list.append(ke(newA, newB))\n",
    "    return Ke_list\n",
    "\n",
    "\n",
    "# get sv dataset\n",
    "dicA = []\n",
    "dicB = []\n",
    "val = []\n",
    "with open(\"F:/MSc DS/Project/compositional datasets/KS2016-SVO.txt\") as f:\n",
    "    for line in f:\n",
    "        linelist = line.split(\",\")\n",
    "        dicA.append(linelist[0])\n",
    "        dicB.append(linelist[1])\n",
    "        val.append(linelist[2])\n",
    "\n",
    "\n",
    "# convert the T to 1 F to 0 in val list\n",
    "n = len(val)\n",
    "for i in range(n):\n",
    "    if val[i]=='T\\n':\n",
    "        val[i]=1\n",
    "    else:\n",
    "        val[i]=0\n",
    "# dicA  list to store the first phrase\n",
    "# dicB  list to store the second pharse\n",
    "# val  true val\n"
   ]
  },
  {
   "cell_type": "code",
   "execution_count": null,
   "metadata": {},
   "outputs": [],
   "source": []
  },
  {
   "cell_type": "code",
   "execution_count": 2,
   "metadata": {},
   "outputs": [],
   "source": [
    "# test different source with different composition methods\n",
    "dic1 = get_dict_from_source(source1)"
   ]
  },
  {
   "cell_type": "code",
   "execution_count": 7,
   "metadata": {},
   "outputs": [],
   "source": [
    "for i in range(len(dicA)):\n",
    "    for j in dicA[i].split():\n",
    "        if j.lower() not in dic1.keys():\n",
    "            print(i,j)"
   ]
  },
  {
   "cell_type": "code",
   "execution_count": 6,
   "metadata": {},
   "outputs": [],
   "source": [
    "for i in range(len(dicB)):\n",
    "    for j in dicB[i].split():\n",
    "        if j.lower() not in dic1.keys():\n",
    "            print(i,j)"
   ]
  },
  {
   "cell_type": "code",
   "execution_count": 5,
   "metadata": {},
   "outputs": [
    {
     "data": {
      "text/plain": [
       "0"
      ]
     },
     "execution_count": 5,
     "metadata": {},
     "output_type": "execute_result"
    }
   ],
   "source": [
    "dicA.pop(22)\n",
    "dicB.pop(22)\n",
    "val.pop(22)\n",
    "dicA.pop(22)\n",
    "dicB.pop(22)\n",
    "val.pop(22)"
   ]
  },
  {
   "cell_type": "code",
   "execution_count": 8,
   "metadata": {},
   "outputs": [
    {
     "name": "stdout",
     "output_type": "stream",
     "text": [
      "0.46439823566477634\n",
      "0.4864524259609326\n"
     ]
    }
   ],
   "source": [
    "# add method\n",
    "pred = compute_Ke(dicA, dicB,dic1)\n",
    "from sklearn.metrics import roc_auc_score\n",
    "result = roc_auc_score(val, pred)\n",
    "print(result)\n",
    "\n",
    "# pointwise\n",
    "pred = compute_Ke(dicA, dicB,dic1,method='pointwise')\n",
    "from sklearn.metrics import roc_auc_score\n",
    "result = roc_auc_score(val, pred)\n",
    "print(result)"
   ]
  },
  {
   "cell_type": "code",
   "execution_count": 9,
   "metadata": {},
   "outputs": [
    {
     "name": "stdout",
     "output_type": "stream",
     "text": [
      "0.5082965763495064\n",
      "0.5826507036336904\n"
     ]
    }
   ],
   "source": [
    "dic1 = get_dict_from_source(source2)\n",
    "# add method\n",
    "pred = compute_Ke(dicA, dicB,dic1)\n",
    "from sklearn.metrics import roc_auc_score\n",
    "result = roc_auc_score(val, pred)\n",
    "print(result)\n",
    "\n",
    "# pointwise\n",
    "pred = compute_Ke(dicA, dicB,dic1,method='pointwise')\n",
    "from sklearn.metrics import roc_auc_score\n",
    "result = roc_auc_score(val, pred)\n",
    "print(result)"
   ]
  },
  {
   "cell_type": "code",
   "execution_count": 10,
   "metadata": {},
   "outputs": [
    {
     "name": "stdout",
     "output_type": "stream",
     "text": [
      "0.4675488342785129\n",
      "0.5103969754253308\n"
     ]
    }
   ],
   "source": [
    "dic1 = get_dict_from_source(source3)\n",
    "# add method\n",
    "pred = compute_Ke(dicA, dicB,dic1)\n",
    "from sklearn.metrics import roc_auc_score\n",
    "result = roc_auc_score(val, pred)\n",
    "print(result)\n",
    "\n",
    "# pointwise\n",
    "pred = compute_Ke(dicA, dicB,dic1,method='pointwise')\n",
    "from sklearn.metrics import roc_auc_score\n",
    "result = roc_auc_score(val, pred)\n",
    "print(result)"
   ]
  },
  {
   "cell_type": "code",
   "execution_count": 11,
   "metadata": {},
   "outputs": [
    {
     "name": "stdout",
     "output_type": "stream",
     "text": [
      "0.5106070153329132\n",
      "0.589582020583911\n"
     ]
    }
   ],
   "source": [
    "dic1 = get_dict_from_source(source4)\n",
    "# add method\n",
    "pred = compute_Ke(dicA, dicB,dic1)\n",
    "from sklearn.metrics import roc_auc_score\n",
    "result = roc_auc_score(val, pred)\n",
    "print(result)\n",
    "\n",
    "# pointwise\n",
    "pred = compute_Ke(dicA, dicB,dic1,method='pointwise')\n",
    "from sklearn.metrics import roc_auc_score\n",
    "result = roc_auc_score(val, pred)\n",
    "print(result)"
   ]
  },
  {
   "cell_type": "code",
   "execution_count": 12,
   "metadata": {},
   "outputs": [
    {
     "name": "stdout",
     "output_type": "stream",
     "text": [
      "0.4849821466078555\n",
      "0.38395295106070154\n"
     ]
    }
   ],
   "source": [
    "dic1 = get_dict_from_source(source5)\n",
    "# add method\n",
    "pred = compute_Ke(dicA, dicB,dic1)\n",
    "from sklearn.metrics import roc_auc_score\n",
    "result = roc_auc_score(val, pred)\n",
    "print(result)\n",
    "\n",
    "# pointwise\n",
    "pred = compute_Ke(dicA, dicB,dic1,method='pointwise')\n",
    "from sklearn.metrics import roc_auc_score\n",
    "result = roc_auc_score(val, pred)\n",
    "print(result)"
   ]
  },
  {
   "cell_type": "code",
   "execution_count": 13,
   "metadata": {},
   "outputs": [
    {
     "name": "stdout",
     "output_type": "stream",
     "text": [
      "0.47490023104389834\n",
      "0.46334803612686415\n"
     ]
    }
   ],
   "source": [
    "dic1 = get_dict_from_source(source6)\n",
    "# add method\n",
    "pred = compute_Ke(dicA, dicB,dic1)\n",
    "from sklearn.metrics import roc_auc_score\n",
    "result = roc_auc_score(val, pred)\n",
    "print(result)\n",
    "\n",
    "# pointwise\n",
    "pred = compute_Ke(dicA, dicB,dic1,method='pointwise')\n",
    "from sklearn.metrics import roc_auc_score\n",
    "result = roc_auc_score(val, pred)\n",
    "print(result)"
   ]
  },
  {
   "cell_type": "code",
   "execution_count": 14,
   "metadata": {},
   "outputs": [
    {
     "name": "stdout",
     "output_type": "stream",
     "text": [
      "0.4782608695652173\n",
      "0.5015752993068683\n"
     ]
    }
   ],
   "source": [
    "dic1 = get_dict_from_source(source7)\n",
    "# add method\n",
    "pred = compute_Ke(dicA, dicB,dic1)\n",
    "from sklearn.metrics import roc_auc_score\n",
    "result = roc_auc_score(val, pred)\n",
    "print(result)\n",
    "\n",
    "# pointwise\n",
    "pred = compute_Ke(dicA, dicB,dic1,method='pointwise')\n",
    "from sklearn.metrics import roc_auc_score\n",
    "result = roc_auc_score(val, pred)\n",
    "print(result)"
   ]
  },
  {
   "cell_type": "code",
   "execution_count": 18,
   "metadata": {},
   "outputs": [
    {
     "name": "stdout",
     "output_type": "stream",
     "text": [
      "0.47258979206049145\n",
      "0.40747742070993487\n"
     ]
    }
   ],
   "source": [
    "dic1 = get_dict_from_source(source8)\n",
    "# add method\n",
    "pred = compute_Ke(dicA, dicB,dic1)\n",
    "from sklearn.metrics import roc_auc_score\n",
    "result = roc_auc_score(val, pred)\n",
    "print(result)\n",
    "\n",
    "# pointwise\n",
    "pred = compute_Ke(dicA, dicB,dic1,method='pointwise')\n",
    "from sklearn.metrics import roc_auc_score\n",
    "result = roc_auc_score(val, pred)\n",
    "print(result)"
   ]
  },
  {
   "cell_type": "code",
   "execution_count": 16,
   "metadata": {},
   "outputs": [
    {
     "name": "stdout",
     "output_type": "stream",
     "text": [
      "0.5040957781978576\n",
      "0.49233354337324087\n"
     ]
    }
   ],
   "source": [
    "dic1 = get_dict_from_source(source9)\n",
    "# add method\n",
    "pred = compute_Ke(dicA, dicB,dic1)\n",
    "from sklearn.metrics import roc_auc_score\n",
    "result = roc_auc_score(val, pred)\n",
    "print(result)\n",
    "\n",
    "# pointwise\n",
    "pred = compute_Ke(dicA, dicB,dic1,method='pointwise')\n",
    "from sklearn.metrics import roc_auc_score\n",
    "result = roc_auc_score(val, pred)\n",
    "print(result)"
   ]
  },
  {
   "cell_type": "code",
   "execution_count": null,
   "metadata": {},
   "outputs": [],
   "source": []
  }
 ],
 "metadata": {
  "kernelspec": {
   "display_name": "Python 3",
   "language": "python",
   "name": "python3"
  },
  "language_info": {
   "codemirror_mode": {
    "name": "ipython",
    "version": 3
   },
   "file_extension": ".py",
   "mimetype": "text/x-python",
   "name": "python",
   "nbconvert_exporter": "python",
   "pygments_lexer": "ipython3",
   "version": "3.7.4"
  }
 },
 "nbformat": 4,
 "nbformat_minor": 2
}
