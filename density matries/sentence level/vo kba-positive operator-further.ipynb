{
 "cells": [
  {
   "cell_type": "code",
   "execution_count": 1,
   "metadata": {},
   "outputs": [],
   "source": [
    "import numpy as np\n",
    "source1 = \"F:/MSc DS/Project/dms/trained_dms_txt/bert2dm-pca.txt\"\n",
    "source2 = \"F:/MSc DS/Project/dms/trained_dms_txt/bert2dm-pca-cls.txt\"\n",
    "source3 = \"F:/MSc DS/Project/dms/trained_dms_txt/bert2dm-svd.txt\"\n",
    "source4 = \"F:/MSc DS/Project/dms/trained_dms_txt/bert2dm-svd-cls.txt\"\n",
    "source5 = \"F:/MSc DS/Project/dms/trained_dms_txt/ms-word2dm-c5.txt\"\n",
    "source6 = \"F:/MSc DS/Project/dms/trained_dms_txt/ms-word2dm-c10.txt\"\n",
    "source7 = \"F:/MSc DS/Project/dms/trained_dms_txt/ms-word2dm-d5.txt\"\n",
    "source8 = \"F:/MSc DS/Project/dms/trained_dms_txt/ms-word2dm-d10.txt\"\n",
    "source9 = \"F:/MSc DS/Project/dms/trained_dms_txt/word2dm.txt\"\n",
    "\n",
    "\n",
    "\n",
    "def get_dict_from_source(source = source5):\n",
    "    dim =17\n",
    "    if source ==source1 or source==source3:\n",
    "        dim = 15\n",
    "    whole =[]\n",
    "\n",
    "    with open(source) as f:\n",
    "        for line in f:\n",
    "            linelist = line.split()\n",
    "            for a in linelist:\n",
    "                whole.append(a)\n",
    "    chunk = dim**2+1\n",
    "    n = len(whole)/chunk\n",
    "    voc = []\n",
    "    for i in range(int(n)):\n",
    "        voc.append(whole[i * chunk])\n",
    "    dic = {}\n",
    "    for i in range(int(n)):\n",
    "        voc.append(whole[i * chunk])\n",
    "    dic = {}\n",
    "    for i in range(int(n)):\n",
    "        a = whole[i * chunk + 1:(i + 1) * chunk]\n",
    "        a = np.array(a, dtype='float')\n",
    "        a.resize([dim, dim])\n",
    "        value,_ = np.linalg.eig(a)\n",
    "        maxeig = max(value)\n",
    "        dic[voc[i]] = a/maxeig\n",
    "\n",
    "    return dic\n",
    "\n",
    "\n",
    "def kba(a, b):\n",
    "    m = b-a\n",
    "    eig,_ = np.linalg.eig(m)\n",
    "    Kba = sum(eig)/sum(abs(eig))\n",
    "    return Kba\n",
    "\n",
    "def halfmatrix(m):\n",
    "    eig,vec = np.linalg.eig(m)\n",
    "    n = len(eig)\n",
    "    for i in range(n):\n",
    "        if eig[i]<0:\n",
    "            eig[i]=0\n",
    "    eignew = eig**0.5\n",
    "    dim = m.shape[0]\n",
    "    e = np.eye(dim)\n",
    "    for i in range(dim):\n",
    "        e[i][i] =eignew[i]\n",
    "    vec_T = np.linalg.inv(vec)\n",
    "    half = vec@e@vec_T\n",
    "    return half\n",
    "\n",
    "def compute_Kba(listA,listB, dic, method ='add'):\n",
    "    '''\n",
    "    imput two phrase or sentences lists\n",
    "    tokenize each pair and get new dm using composition method\n",
    "    compute Ke pred for each pair\n",
    "    if oov set Ke to oov  # after test all in voc\n",
    "\n",
    "    composition method\n",
    "    add or pointwise\n",
    "    '''\n",
    "\n",
    "    n = len(listA)\n",
    "    if method == 'add':\n",
    "        Kba_list = []\n",
    "        for i in range(n):\n",
    "            phraseA = listA[i].split()\n",
    "            phraseB = listB[i].split()\n",
    "            newA = dic[phraseA[0].lower()] + dic[phraseA[1].lower()]\n",
    "            newB = dic[phraseB[0].lower()] + dic[phraseB[1].lower()]\n",
    "            Kba_list.append(kba(newA, newB))\n",
    "\n",
    "    if method == 'pointwise':\n",
    "        Kba_list = []\n",
    "        for i in range(n):\n",
    "            phraseA = listA[i].split()\n",
    "            phraseB = listB[i].split()\n",
    "            newA = dic[phraseA[0].lower()] * dic[phraseA[1].lower()]\n",
    "            newB = dic[phraseB[0].lower()] * dic[phraseB[1].lower()]\n",
    "            Kba_list.append(kba(newA, newB))\n",
    "            \n",
    "#     if method == 'dot':\n",
    "#         Kba_list = []\n",
    "#         for i in range(n):\n",
    "#             phraseA = listA[i].split()\n",
    "#             phraseB = listB[i].split()\n",
    "#             newA = dic[phraseA[0].lower()]@dic[phraseA[1].lower()]\n",
    "#             newB = dic[phraseB[0].lower()]@dic[phraseB[1].lower()]\n",
    "#             Kba_list.append(kba(newA, newB))\n",
    "    \n",
    "    if method == 'mult':\n",
    "        Kba_list = []\n",
    "        for i in range(n):\n",
    "            phraseA = listA[i].split()\n",
    "            phraseB = listB[i].split()\n",
    "            v1 = dic[phraseA[0].lower()]\n",
    "            n1 = dic[phraseA[1].lower()]\n",
    "            v2 = dic[phraseB[0].lower()]\n",
    "            n2 = dic[phraseB[1].lower()]\n",
    "            newA = halfmatrix(n1)*v1*halfmatrix(n1)\n",
    "            newB = halfmatrix(n2)*v2*halfmatrix(n2)\n",
    "            Kba_list.append(kba(newA, newB))\n",
    "            \n",
    "    return Kba_list\n",
    "\n",
    "\n",
    "# get sv dataset\n",
    "dicA = []\n",
    "dicB = []\n",
    "val = []\n",
    "with open(\"F:/MSc DS/Project/compositional datasets/KS2016-VO.txt\") as f:\n",
    "    for line in f:\n",
    "        linelist = line.split(\",\")\n",
    "        dicA.append(linelist[0])\n",
    "        dicB.append(linelist[1])\n",
    "        val.append(linelist[2])\n",
    "\n",
    "# convert the T to 1 F to 0 in val list\n",
    "n = len(val)\n",
    "for i in range(n):\n",
    "    if val[i]=='T\\n':\n",
    "        val[i]=1\n",
    "    else:\n",
    "        val[i]=0\n",
    "# dicA  list to store the first phrase\n",
    "# dicB  list to store the second pharse\n",
    "# val  true val\n",
    "\n",
    "\n"
   ]
  },
  {
   "cell_type": "code",
   "execution_count": 2,
   "metadata": {},
   "outputs": [
    {
     "data": {
      "text/plain": [
       "1"
      ]
     },
     "execution_count": 2,
     "metadata": {},
     "output_type": "execute_result"
    }
   ],
   "source": [
    "# remove oov\n",
    "dicA.pop(254)\n",
    "dicB.pop(254)\n",
    "val.pop(254)\n"
   ]
  },
  {
   "cell_type": "code",
   "execution_count": 3,
   "metadata": {},
   "outputs": [
    {
     "data": {
      "text/plain": [
       "0"
      ]
     },
     "execution_count": 3,
     "metadata": {},
     "output_type": "execute_result"
    }
   ],
   "source": [
    "dicA.pop(254)\n",
    "dicB.pop(254)\n",
    "val.pop(254)"
   ]
  },
  {
   "cell_type": "code",
   "execution_count": 4,
   "metadata": {},
   "outputs": [
    {
     "name": "stdout",
     "output_type": "stream",
     "text": [
      "0.6385780118499013\n",
      "0.6212491239992355\n"
     ]
    }
   ],
   "source": [
    "dic1 = get_dict_from_source(source1)\n",
    "# add method\n",
    "pred = compute_Kba(dicA, dicB,dic1)\n",
    "from sklearn.metrics import roc_auc_score\n",
    "result = roc_auc_score(val, pred)\n",
    "print(result)\n",
    "# pointwise\n",
    "pred = compute_Kba(dicA, dicB,dic1,method='pointwise')\n",
    "from sklearn.metrics import roc_auc_score\n",
    "result = roc_auc_score(val, pred)\n",
    "print(result)"
   ]
  },
  {
   "cell_type": "code",
   "execution_count": 5,
   "metadata": {},
   "outputs": [
    {
     "name": "stdout",
     "output_type": "stream",
     "text": [
      "0.430334048291533\n",
      "0.582089235277878\n"
     ]
    }
   ],
   "source": [
    "dic1 = get_dict_from_source(source2)\n",
    "# add method\n",
    "pred = compute_Kba(dicA, dicB,dic1)\n",
    "from sklearn.metrics import roc_auc_score\n",
    "result = roc_auc_score(val, pred)\n",
    "print(result)\n",
    "# pointwise\n",
    "pred = compute_Kba(dicA, dicB,dic1,method='pointwise')\n",
    "from sklearn.metrics import roc_auc_score\n",
    "result = roc_auc_score(val, pred)\n",
    "print(result)"
   ]
  },
  {
   "cell_type": "code",
   "execution_count": 6,
   "metadata": {},
   "outputs": [
    {
     "name": "stdout",
     "output_type": "stream",
     "text": [
      "0.4849964959969419\n",
      "0.6596232665803055\n"
     ]
    }
   ],
   "source": [
    "dic1 = get_dict_from_source(source3)\n",
    "# add method\n",
    "pred = compute_Kba(dicA, dicB,dic1)\n",
    "from sklearn.metrics import roc_auc_score\n",
    "result = roc_auc_score(val, pred)\n",
    "print(result)\n",
    "# pointwise\n",
    "pred = compute_Kba(dicA, dicB,dic1,method='pointwise')\n",
    "from sklearn.metrics import roc_auc_score\n",
    "result = roc_auc_score(val, pred)\n",
    "print(result)"
   ]
  },
  {
   "cell_type": "code",
   "execution_count": 7,
   "metadata": {},
   "outputs": [
    {
     "name": "stdout",
     "output_type": "stream",
     "text": [
      "0.46594746119051156\n",
      "0.5333942109622204\n"
     ]
    }
   ],
   "source": [
    "dic1 = get_dict_from_source(source4)\n",
    "# add method\n",
    "pred = compute_Kba(dicA, dicB,dic1)\n",
    "from sklearn.metrics import roc_auc_score\n",
    "result = roc_auc_score(val, pred)\n",
    "print(result)\n",
    "# pointwise\n",
    "pred = compute_Kba(dicA, dicB,dic1,method='pointwise')\n",
    "from sklearn.metrics import roc_auc_score\n",
    "result = roc_auc_score(val, pred)\n",
    "print(result)"
   ]
  },
  {
   "cell_type": "code",
   "execution_count": 8,
   "metadata": {},
   "outputs": [
    {
     "name": "stdout",
     "output_type": "stream",
     "text": [
      "0.668054110301769\n",
      "0.6111406060863471\n"
     ]
    }
   ],
   "source": [
    "dic1 = get_dict_from_source(source5)\n",
    "# add method\n",
    "pred = compute_Kba(dicA, dicB,dic1)\n",
    "from sklearn.metrics import roc_auc_score\n",
    "result = roc_auc_score(val, pred)\n",
    "print(result)\n",
    "# pointwise\n",
    "pred = compute_Kba(dicA, dicB,dic1,method='pointwise')\n",
    "from sklearn.metrics import roc_auc_score\n",
    "result = roc_auc_score(val, pred)\n",
    "print(result)"
   ]
  },
  {
   "cell_type": "code",
   "execution_count": 9,
   "metadata": {},
   "outputs": [
    {
     "name": "stdout",
     "output_type": "stream",
     "text": [
      "0.7253711057784197\n",
      "0.7056849795068912\n"
     ]
    }
   ],
   "source": [
    "dic1 = get_dict_from_source(source6)\n",
    "# add method\n",
    "pred = compute_Kba(dicA, dicB,dic1)\n",
    "from sklearn.metrics import roc_auc_score\n",
    "result = roc_auc_score(val, pred)\n",
    "print(result)\n",
    "# pointwise\n",
    "pred = compute_Kba(dicA, dicB,dic1,method='pointwise')\n",
    "from sklearn.metrics import roc_auc_score\n",
    "result = roc_auc_score(val, pred)\n",
    "print(result)"
   ]
  },
  {
   "cell_type": "code",
   "execution_count": 4,
   "metadata": {},
   "outputs": [],
   "source": [
    "from sklearn.metrics import roc_auc_score\n",
    "dic1 = get_dict_from_source(source7)\n",
    "# add method\n",
    "pred = compute_Kba(dicA, dicB,dic1)\n",
    "\n",
    "result = roc_auc_score(val, pred)\n"
   ]
  },
  {
   "cell_type": "code",
   "execution_count": 5,
   "metadata": {},
   "outputs": [
    {
     "data": {
      "text/plain": [
       "0.7283441992822103"
      ]
     },
     "execution_count": 5,
     "metadata": {},
     "output_type": "execute_result"
    }
   ],
   "source": [
    "result\n"
   ]
  },
  {
   "cell_type": "code",
   "execution_count": 6,
   "metadata": {},
   "outputs": [],
   "source": [
    "import pandas as pd\n",
    "dic= {'dicA':dicA,'dicB':dicB,'label':val,'pred':pred}\n",
    "df = pd.DataFrame(dic)"
   ]
  },
  {
   "cell_type": "code",
   "execution_count": 7,
   "metadata": {},
   "outputs": [],
   "source": [
    "pred2=[i>0 for i in pred]"
   ]
  },
  {
   "cell_type": "code",
   "execution_count": 8,
   "metadata": {},
   "outputs": [],
   "source": [
    "pred2 =[int(i==True) for i in pred2]\n",
    "df['pred2']=pred2"
   ]
  },
  {
   "cell_type": "code",
   "execution_count": 9,
   "metadata": {},
   "outputs": [
    {
     "data": {
      "text/html": [
       "<div>\n",
       "<style scoped>\n",
       "    .dataframe tbody tr th:only-of-type {\n",
       "        vertical-align: middle;\n",
       "    }\n",
       "\n",
       "    .dataframe tbody tr th {\n",
       "        vertical-align: top;\n",
       "    }\n",
       "\n",
       "    .dataframe thead th {\n",
       "        text-align: right;\n",
       "    }\n",
       "</style>\n",
       "<table border=\"1\" class=\"dataframe\">\n",
       "  <thead>\n",
       "    <tr style=\"text-align: right;\">\n",
       "      <th></th>\n",
       "      <th>dicA</th>\n",
       "      <th>dicB</th>\n",
       "      <th>label</th>\n",
       "      <th>pred</th>\n",
       "      <th>pred2</th>\n",
       "    </tr>\n",
       "  </thead>\n",
       "  <tbody>\n",
       "    <tr>\n",
       "      <th>0</th>\n",
       "      <td>develop skill</td>\n",
       "      <td>create ability</td>\n",
       "      <td>1</td>\n",
       "      <td>0.081403</td>\n",
       "      <td>1</td>\n",
       "    </tr>\n",
       "    <tr>\n",
       "      <th>1</th>\n",
       "      <td>create ability</td>\n",
       "      <td>develop skill</td>\n",
       "      <td>0</td>\n",
       "      <td>-0.081403</td>\n",
       "      <td>0</td>\n",
       "    </tr>\n",
       "    <tr>\n",
       "      <th>2</th>\n",
       "      <td>solve problem</td>\n",
       "      <td>understand difficulty</td>\n",
       "      <td>1</td>\n",
       "      <td>-0.118591</td>\n",
       "      <td>0</td>\n",
       "    </tr>\n",
       "    <tr>\n",
       "      <th>3</th>\n",
       "      <td>understand difficulty</td>\n",
       "      <td>solve problem</td>\n",
       "      <td>0</td>\n",
       "      <td>0.118591</td>\n",
       "      <td>1</td>\n",
       "    </tr>\n",
       "    <tr>\n",
       "      <th>4</th>\n",
       "      <td>sign contract</td>\n",
       "      <td>write agreement</td>\n",
       "      <td>1</td>\n",
       "      <td>-0.036990</td>\n",
       "      <td>0</td>\n",
       "    </tr>\n",
       "    <tr>\n",
       "      <th>...</th>\n",
       "      <td>...</td>\n",
       "      <td>...</td>\n",
       "      <td>...</td>\n",
       "      <td>...</td>\n",
       "      <td>...</td>\n",
       "    </tr>\n",
       "    <tr>\n",
       "      <th>429</th>\n",
       "      <td>affect thinking</td>\n",
       "      <td>stimulate think</td>\n",
       "      <td>0</td>\n",
       "      <td>-0.026663</td>\n",
       "      <td>0</td>\n",
       "    </tr>\n",
       "    <tr>\n",
       "      <th>430</th>\n",
       "      <td>market film</td>\n",
       "      <td>trade product</td>\n",
       "      <td>1</td>\n",
       "      <td>0.112178</td>\n",
       "      <td>1</td>\n",
       "    </tr>\n",
       "    <tr>\n",
       "      <th>431</th>\n",
       "      <td>trade product</td>\n",
       "      <td>market film</td>\n",
       "      <td>0</td>\n",
       "      <td>-0.112178</td>\n",
       "      <td>0</td>\n",
       "    </tr>\n",
       "    <tr>\n",
       "      <th>432</th>\n",
       "      <td>advise firm</td>\n",
       "      <td>talk business</td>\n",
       "      <td>1</td>\n",
       "      <td>-0.022931</td>\n",
       "      <td>0</td>\n",
       "    </tr>\n",
       "    <tr>\n",
       "      <th>433</th>\n",
       "      <td>talk business</td>\n",
       "      <td>advise firm</td>\n",
       "      <td>0</td>\n",
       "      <td>0.022931</td>\n",
       "      <td>1</td>\n",
       "    </tr>\n",
       "  </tbody>\n",
       "</table>\n",
       "<p>434 rows × 5 columns</p>\n",
       "</div>"
      ],
      "text/plain": [
       "                      dicA                   dicB  label      pred  pred2\n",
       "0            develop skill         create ability      1  0.081403      1\n",
       "1           create ability          develop skill      0 -0.081403      0\n",
       "2            solve problem  understand difficulty      1 -0.118591      0\n",
       "3    understand difficulty          solve problem      0  0.118591      1\n",
       "4            sign contract        write agreement      1 -0.036990      0\n",
       "..                     ...                    ...    ...       ...    ...\n",
       "429        affect thinking        stimulate think      0 -0.026663      0\n",
       "430            market film          trade product      1  0.112178      1\n",
       "431          trade product            market film      0 -0.112178      0\n",
       "432            advise firm          talk business      1 -0.022931      0\n",
       "433          talk business            advise firm      0  0.022931      1\n",
       "\n",
       "[434 rows x 5 columns]"
      ]
     },
     "execution_count": 9,
     "metadata": {},
     "output_type": "execute_result"
    }
   ],
   "source": [
    "df"
   ]
  },
  {
   "cell_type": "code",
   "execution_count": 10,
   "metadata": {},
   "outputs": [],
   "source": [
    "wrong=[]\n",
    "for i in range(len(df)):\n",
    "    if df.label[i]!=df.pred2[i]:\n",
    "        wrong.append(i)"
   ]
  },
  {
   "cell_type": "code",
   "execution_count": 11,
   "metadata": {},
   "outputs": [
    {
     "data": {
      "text/plain": [
       "[2,\n",
       " 3,\n",
       " 4,\n",
       " 5,\n",
       " 6,\n",
       " 7,\n",
       " 24,\n",
       " 25,\n",
       " 26,\n",
       " 27,\n",
       " 36,\n",
       " 37,\n",
       " 44,\n",
       " 45,\n",
       " 48,\n",
       " 49,\n",
       " 54,\n",
       " 55,\n",
       " 56,\n",
       " 57,\n",
       " 64,\n",
       " 65,\n",
       " 68,\n",
       " 69,\n",
       " 70,\n",
       " 71,\n",
       " 72,\n",
       " 73,\n",
       " 80,\n",
       " 81,\n",
       " 86,\n",
       " 87,\n",
       " 90,\n",
       " 91,\n",
       " 92,\n",
       " 93,\n",
       " 96,\n",
       " 97,\n",
       " 106,\n",
       " 107,\n",
       " 116,\n",
       " 117,\n",
       " 132,\n",
       " 133,\n",
       " 136,\n",
       " 137,\n",
       " 144,\n",
       " 145,\n",
       " 146,\n",
       " 147,\n",
       " 148,\n",
       " 149,\n",
       " 150,\n",
       " 151,\n",
       " 154,\n",
       " 155,\n",
       " 158,\n",
       " 159,\n",
       " 164,\n",
       " 165,\n",
       " 166,\n",
       " 167,\n",
       " 174,\n",
       " 175,\n",
       " 184,\n",
       " 185,\n",
       " 198,\n",
       " 199,\n",
       " 200,\n",
       " 201,\n",
       " 206,\n",
       " 207,\n",
       " 210,\n",
       " 211,\n",
       " 232,\n",
       " 233,\n",
       " 234,\n",
       " 235,\n",
       " 236,\n",
       " 237,\n",
       " 278,\n",
       " 279,\n",
       " 284,\n",
       " 285,\n",
       " 286,\n",
       " 287,\n",
       " 300,\n",
       " 301,\n",
       " 312,\n",
       " 313,\n",
       " 316,\n",
       " 317,\n",
       " 324,\n",
       " 325,\n",
       " 326,\n",
       " 327,\n",
       " 328,\n",
       " 329,\n",
       " 332,\n",
       " 333,\n",
       " 334,\n",
       " 335,\n",
       " 346,\n",
       " 347,\n",
       " 348,\n",
       " 349,\n",
       " 352,\n",
       " 353,\n",
       " 362,\n",
       " 363,\n",
       " 372,\n",
       " 373,\n",
       " 378,\n",
       " 379,\n",
       " 380,\n",
       " 381,\n",
       " 384,\n",
       " 385,\n",
       " 390,\n",
       " 391,\n",
       " 396,\n",
       " 397,\n",
       " 402,\n",
       " 403,\n",
       " 404,\n",
       " 405,\n",
       " 414,\n",
       " 415,\n",
       " 420,\n",
       " 421,\n",
       " 424,\n",
       " 425,\n",
       " 426,\n",
       " 427,\n",
       " 432,\n",
       " 433]"
      ]
     },
     "execution_count": 11,
     "metadata": {},
     "output_type": "execute_result"
    }
   ],
   "source": [
    "wrong"
   ]
  },
  {
   "cell_type": "code",
   "execution_count": 12,
   "metadata": {},
   "outputs": [],
   "source": [
    "wrong =[i for i in wrong if i%2==0]"
   ]
  },
  {
   "cell_type": "code",
   "execution_count": 13,
   "metadata": {},
   "outputs": [
    {
     "data": {
      "text/plain": [
       "[2,\n",
       " 4,\n",
       " 6,\n",
       " 24,\n",
       " 26,\n",
       " 36,\n",
       " 44,\n",
       " 48,\n",
       " 54,\n",
       " 56,\n",
       " 64,\n",
       " 68,\n",
       " 70,\n",
       " 72,\n",
       " 80,\n",
       " 86,\n",
       " 90,\n",
       " 92,\n",
       " 96,\n",
       " 106,\n",
       " 116,\n",
       " 132,\n",
       " 136,\n",
       " 144,\n",
       " 146,\n",
       " 148,\n",
       " 150,\n",
       " 154,\n",
       " 158,\n",
       " 164,\n",
       " 166,\n",
       " 174,\n",
       " 184,\n",
       " 198,\n",
       " 200,\n",
       " 206,\n",
       " 210,\n",
       " 232,\n",
       " 234,\n",
       " 236,\n",
       " 278,\n",
       " 284,\n",
       " 286,\n",
       " 300,\n",
       " 312,\n",
       " 316,\n",
       " 324,\n",
       " 326,\n",
       " 328,\n",
       " 332,\n",
       " 334,\n",
       " 346,\n",
       " 348,\n",
       " 352,\n",
       " 362,\n",
       " 372,\n",
       " 378,\n",
       " 380,\n",
       " 384,\n",
       " 390,\n",
       " 396,\n",
       " 402,\n",
       " 404,\n",
       " 414,\n",
       " 420,\n",
       " 424,\n",
       " 426,\n",
       " 432]"
      ]
     },
     "execution_count": 13,
     "metadata": {},
     "output_type": "execute_result"
    }
   ],
   "source": [
    "wrong"
   ]
  },
  {
   "cell_type": "code",
   "execution_count": 14,
   "metadata": {},
   "outputs": [
    {
     "name": "stdout",
     "output_type": "stream",
     "text": [
      "0.6995476650597804\n"
     ]
    }
   ],
   "source": [
    "dic1 = get_dict_from_source(source8)\n",
    "# add method\n",
    "pred = compute_Kba(dicA, dicB,dic1)\n",
    "result = roc_auc_score(val, pred)\n",
    "print(result)\n",
    "# pointwise\n"
   ]
  },
  {
   "cell_type": "code",
   "execution_count": 15,
   "metadata": {},
   "outputs": [],
   "source": [
    "dic= {'dicA':dicA,'dicB':dicB,'label':val,'pred':pred}\n",
    "df2 = pd.DataFrame(dic)\n",
    "pred2=[i>0 for i in pred]\n",
    "pred2 =[int(i==True) for i in pred2]\n",
    "df2['pred2']=pred2"
   ]
  },
  {
   "cell_type": "code",
   "execution_count": 16,
   "metadata": {},
   "outputs": [],
   "source": [
    "wrong2=[]\n",
    "for i in range(len(df2)):\n",
    "    if df.label[i]!=df.pred2[i]:\n",
    "        wrong2.append(i)"
   ]
  },
  {
   "cell_type": "code",
   "execution_count": 17,
   "metadata": {},
   "outputs": [],
   "source": [
    "common=[]\n",
    "for i in wrong2:\n",
    "    if i in wrong:\n",
    "        common.append(i)"
   ]
  },
  {
   "cell_type": "code",
   "execution_count": 19,
   "metadata": {},
   "outputs": [],
   "source": [
    "df_error=df.iloc[common][:]"
   ]
  },
  {
   "cell_type": "code",
   "execution_count": 22,
   "metadata": {},
   "outputs": [
    {
     "data": {
      "text/html": [
       "<div>\n",
       "<style scoped>\n",
       "    .dataframe tbody tr th:only-of-type {\n",
       "        vertical-align: middle;\n",
       "    }\n",
       "\n",
       "    .dataframe tbody tr th {\n",
       "        vertical-align: top;\n",
       "    }\n",
       "\n",
       "    .dataframe thead th {\n",
       "        text-align: right;\n",
       "    }\n",
       "</style>\n",
       "<table border=\"1\" class=\"dataframe\">\n",
       "  <thead>\n",
       "    <tr style=\"text-align: right;\">\n",
       "      <th></th>\n",
       "      <th>dicA</th>\n",
       "      <th>dicB</th>\n",
       "    </tr>\n",
       "  </thead>\n",
       "  <tbody>\n",
       "    <tr>\n",
       "      <th>2</th>\n",
       "      <td>solve problem</td>\n",
       "      <td>understand difficulty</td>\n",
       "    </tr>\n",
       "    <tr>\n",
       "      <th>4</th>\n",
       "      <td>sign contract</td>\n",
       "      <td>write agreement</td>\n",
       "    </tr>\n",
       "    <tr>\n",
       "      <th>6</th>\n",
       "      <td>reduce number</td>\n",
       "      <td>decrease amount</td>\n",
       "    </tr>\n",
       "    <tr>\n",
       "      <th>24</th>\n",
       "      <td>undertake research</td>\n",
       "      <td>initiate investigation</td>\n",
       "    </tr>\n",
       "    <tr>\n",
       "      <th>26</th>\n",
       "      <td>afford fee</td>\n",
       "      <td>pay cost</td>\n",
       "    </tr>\n",
       "    <tr>\n",
       "      <th>36</th>\n",
       "      <td>mark end</td>\n",
       "      <td>connect location</td>\n",
       "    </tr>\n",
       "    <tr>\n",
       "      <th>44</th>\n",
       "      <td>present work</td>\n",
       "      <td>show activity</td>\n",
       "    </tr>\n",
       "    <tr>\n",
       "      <th>48</th>\n",
       "      <td>read text</td>\n",
       "      <td>understand matter</td>\n",
       "    </tr>\n",
       "    <tr>\n",
       "      <th>54</th>\n",
       "      <td>conduct survey</td>\n",
       "      <td>manage investigation</td>\n",
       "    </tr>\n",
       "    <tr>\n",
       "      <th>56</th>\n",
       "      <td>reflect view</td>\n",
       "      <td>indicate attitude</td>\n",
       "    </tr>\n",
       "    <tr>\n",
       "      <th>64</th>\n",
       "      <td>enhance experience</td>\n",
       "      <td>increase content</td>\n",
       "    </tr>\n",
       "    <tr>\n",
       "      <th>68</th>\n",
       "      <td>order pay</td>\n",
       "      <td>request payment</td>\n",
       "    </tr>\n",
       "  </tbody>\n",
       "</table>\n",
       "</div>"
      ],
      "text/plain": [
       "                  dicA                    dicB\n",
       "2        solve problem   understand difficulty\n",
       "4        sign contract         write agreement\n",
       "6        reduce number         decrease amount\n",
       "24  undertake research  initiate investigation\n",
       "26          afford fee                pay cost\n",
       "36            mark end        connect location\n",
       "44        present work           show activity\n",
       "48           read text       understand matter\n",
       "54      conduct survey    manage investigation\n",
       "56        reflect view       indicate attitude\n",
       "64  enhance experience        increase content\n",
       "68           order pay         request payment"
      ]
     },
     "execution_count": 22,
     "metadata": {},
     "output_type": "execute_result"
    }
   ],
   "source": [
    "df_error[['dicA','dicB']][:12]"
   ]
  },
  {
   "cell_type": "code",
   "execution_count": 12,
   "metadata": {},
   "outputs": [
    {
     "name": "stdout",
     "output_type": "stream",
     "text": [
      "0.49822676208881056\n",
      "0.4623372762216229\n"
     ]
    }
   ],
   "source": [
    "dic1 = get_dict_from_source(source9)\n",
    "# add method\n",
    "pred = compute_Kba(dicA, dicB,dic1)\n",
    "from sklearn.metrics import roc_auc_score\n",
    "result = roc_auc_score(val, pred)\n",
    "print(result)\n",
    "# pointwise\n",
    "pred = compute_Kba(dicA, dicB,dic1,method='pointwise')\n",
    "from sklearn.metrics import roc_auc_score\n",
    "result = roc_auc_score(val, pred)\n",
    "print(result)"
   ]
  },
  {
   "cell_type": "code",
   "execution_count": 5,
   "metadata": {},
   "outputs": [
    {
     "name": "stdout",
     "output_type": "stream",
     "text": [
      "0.6224383614007517\n"
     ]
    }
   ],
   "source": [
    "from sklearn.metrics import roc_auc_score\n",
    "dic1 = get_dict_from_source(source1)\n",
    "pred = compute_Kba(dicA, dicB,dic1,method='mult')\n",
    "result = roc_auc_score(val, pred)\n",
    "print(result)"
   ]
  },
  {
   "cell_type": "code",
   "execution_count": 6,
   "metadata": {},
   "outputs": [
    {
     "name": "stdout",
     "output_type": "stream",
     "text": [
      "0.6273864384463465\n"
     ]
    }
   ],
   "source": [
    "dic1 = get_dict_from_source(source2)\n",
    "pred = compute_Kba(dicA, dicB,dic1,method='mult')\n",
    "result = roc_auc_score(val, pred)\n",
    "print(result)"
   ]
  },
  {
   "cell_type": "code",
   "execution_count": 7,
   "metadata": {},
   "outputs": [
    {
     "name": "stdout",
     "output_type": "stream",
     "text": [
      "0.6283420756439932\n"
     ]
    }
   ],
   "source": [
    "dic1 = get_dict_from_source(source3)\n",
    "pred = compute_Kba(dicA, dicB,dic1,method='mult')\n",
    "result = roc_auc_score(val, pred)\n",
    "print(result)"
   ]
  },
  {
   "cell_type": "code",
   "execution_count": 8,
   "metadata": {},
   "outputs": [
    {
     "name": "stdout",
     "output_type": "stream",
     "text": [
      "0.5229459109346132\n"
     ]
    }
   ],
   "source": [
    "dic1 = get_dict_from_source(source4)\n",
    "pred = compute_Kba(dicA, dicB,dic1,method='mult')\n",
    "result = roc_auc_score(val, pred)\n",
    "print(result)"
   ]
  },
  {
   "cell_type": "code",
   "execution_count": 9,
   "metadata": {},
   "outputs": [
    {
     "name": "stdout",
     "output_type": "stream",
     "text": [
      "0.5922614623372763\n"
     ]
    }
   ],
   "source": [
    "dic1 = get_dict_from_source(source5)\n",
    "pred = compute_Kba(dicA, dicB,dic1,method='mult')\n",
    "result = roc_auc_score(val, pred)\n",
    "print(result)"
   ]
  },
  {
   "cell_type": "code",
   "execution_count": 10,
   "metadata": {},
   "outputs": [
    {
     "name": "stdout",
     "output_type": "stream",
     "text": [
      "0.6959587164730617\n"
     ]
    }
   ],
   "source": [
    "dic1 = get_dict_from_source(source6)\n",
    "pred = compute_Kba(dicA, dicB,dic1,method='mult')\n",
    "result = roc_auc_score(val, pred)\n",
    "print(result)"
   ]
  },
  {
   "cell_type": "code",
   "execution_count": 11,
   "metadata": {},
   "outputs": [
    {
     "name": "stdout",
     "output_type": "stream",
     "text": [
      "0.5668839856442056\n"
     ]
    }
   ],
   "source": [
    "dic1 = get_dict_from_source(source7)\n",
    "pred = compute_Kba(dicA, dicB,dic1,method='mult')\n",
    "result = roc_auc_score(val, pred)\n",
    "print(result)"
   ]
  },
  {
   "cell_type": "code",
   "execution_count": 12,
   "metadata": {},
   "outputs": [
    {
     "name": "stdout",
     "output_type": "stream",
     "text": [
      "0.6049183461105566\n"
     ]
    }
   ],
   "source": [
    "dic1 = get_dict_from_source(source8)\n",
    "pred = compute_Kba(dicA, dicB,dic1,method='mult')\n",
    "result = roc_auc_score(val, pred)\n",
    "print(result)"
   ]
  },
  {
   "cell_type": "code",
   "execution_count": 13,
   "metadata": {},
   "outputs": [
    {
     "name": "stdout",
     "output_type": "stream",
     "text": [
      "0.48096158338465456\n"
     ]
    }
   ],
   "source": [
    "dic1 = get_dict_from_source(source9)\n",
    "pred = compute_Kba(dicA, dicB,dic1,method='mult')\n",
    "result = roc_auc_score(val, pred)\n",
    "print(result)"
   ]
  },
  {
   "cell_type": "code",
   "execution_count": null,
   "metadata": {},
   "outputs": [],
   "source": []
  }
 ],
 "metadata": {
  "kernelspec": {
   "display_name": "Python 3",
   "language": "python",
   "name": "python3"
  },
  "language_info": {
   "codemirror_mode": {
    "name": "ipython",
    "version": 3
   },
   "file_extension": ".py",
   "mimetype": "text/x-python",
   "name": "python",
   "nbconvert_exporter": "python",
   "pygments_lexer": "ipython3",
   "version": "3.7.4"
  }
 },
 "nbformat": 4,
 "nbformat_minor": 2
}
