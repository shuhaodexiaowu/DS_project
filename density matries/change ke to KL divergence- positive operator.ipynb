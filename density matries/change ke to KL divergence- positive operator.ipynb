{
 "cells": [
  {
   "cell_type": "code",
   "execution_count": 1,
   "metadata": {},
   "outputs": [],
   "source": [
    "import numpy as np\n",
    "\n",
    "source1 = \"F:/MSc DS/Project/dms/trained_dms_txt/bert2dm-pca.txt\"\n",
    "source2 = \"F:/MSc DS/Project/dms/trained_dms_txt/bert2dm-pca-cls.txt\"\n",
    "source3 = \"F:/MSc DS/Project/dms/trained_dms_txt/bert2dm-svd.txt\"\n",
    "source4 = \"F:/MSc DS/Project/dms/trained_dms_txt/bert2dm-svd-cls.txt\"\n",
    "source5 = \"F:/MSc DS/Project/dms/trained_dms_txt/ms-word2dm-c5.txt\"\n",
    "source6 = \"F:/MSc DS/Project/dms/trained_dms_txt/ms-word2dm-c10.txt\"\n",
    "source7 = \"F:/MSc DS/Project/dms/trained_dms_txt/ms-word2dm-d5.txt\"\n",
    "source8 = \"F:/MSc DS/Project/dms/trained_dms_txt/ms-word2dm-d10.txt\"\n",
    "source9 = \"F:/MSc DS/Project/dms/trained_dms_txt/word2dm.txt\"\n",
    "\n",
    "def get_dict_from_source(source = source5):\n",
    "    dim =17\n",
    "    if source ==source1 or source==source3:\n",
    "        dim = 15\n",
    "    whole =[]\n",
    "\n",
    "    with open(source) as f:\n",
    "        for line in f:\n",
    "            linelist = line.split()\n",
    "            for a in linelist:\n",
    "                whole.append(a)\n",
    "    chunk = dim**2+1\n",
    "    n = len(whole)/chunk\n",
    "    voc = []\n",
    "    for i in range(int(n)):\n",
    "        voc.append(whole[i * chunk])\n",
    "    dic = {}\n",
    "    for i in range(int(n)):\n",
    "        voc.append(whole[i * chunk])\n",
    "    dic = {}\n",
    "    for i in range(int(n)):\n",
    "        a = whole[i * chunk + 1:(i + 1) * chunk]\n",
    "        a = np.array(a, dtype='float')\n",
    "        a.resize([dim, dim])\n",
    "        dic[voc[i]] = a\n",
    "\n",
    "    return dic\n",
    "\n"
   ]
  },
  {
   "cell_type": "code",
   "execution_count": 2,
   "metadata": {},
   "outputs": [],
   "source": [
    "def KL_repr(a,b):\n",
    "    return 1/(1+ np.trace(a*(np.log(a)-np.log(b))))"
   ]
  },
  {
   "cell_type": "code",
   "execution_count": 3,
   "metadata": {},
   "outputs": [],
   "source": [
    "import pandas as pd\n",
    "example = pd.read_csv('F:/MSc DS/Project/Github_resource/hypernymysuite/hypernymysuite-master/example.tsv',sep='\\t',header =0)\n",
    "\n",
    "\n",
    "m = example.shape[0]"
   ]
  },
  {
   "cell_type": "code",
   "execution_count": 4,
   "metadata": {},
   "outputs": [
    {
     "data": {
      "text/html": [
       "<div>\n",
       "<style scoped>\n",
       "    .dataframe tbody tr th:only-of-type {\n",
       "        vertical-align: middle;\n",
       "    }\n",
       "\n",
       "    .dataframe tbody tr th {\n",
       "        vertical-align: top;\n",
       "    }\n",
       "\n",
       "    .dataframe thead th {\n",
       "        text-align: right;\n",
       "    }\n",
       "</style>\n",
       "<table border=\"1\" class=\"dataframe\">\n",
       "  <thead>\n",
       "    <tr style=\"text-align: right;\">\n",
       "      <th></th>\n",
       "      <th>hypo</th>\n",
       "      <th>hyper</th>\n",
       "      <th>sim</th>\n",
       "      <th>is_oov</th>\n",
       "    </tr>\n",
       "  </thead>\n",
       "  <tbody>\n",
       "    <tr>\n",
       "      <th>0</th>\n",
       "      <td>1840s</td>\n",
       "      <td>1850s</td>\n",
       "      <td>0.127720</td>\n",
       "      <td>0</td>\n",
       "    </tr>\n",
       "    <tr>\n",
       "      <th>1</th>\n",
       "      <td>1850s</td>\n",
       "      <td>1860s</td>\n",
       "      <td>0.193895</td>\n",
       "      <td>0</td>\n",
       "    </tr>\n",
       "    <tr>\n",
       "      <th>2</th>\n",
       "      <td>1880s</td>\n",
       "      <td>1890s</td>\n",
       "      <td>0.051568</td>\n",
       "      <td>0</td>\n",
       "    </tr>\n",
       "    <tr>\n",
       "      <th>3</th>\n",
       "      <td>1890s</td>\n",
       "      <td>1900s</td>\n",
       "      <td>0.065130</td>\n",
       "      <td>0</td>\n",
       "    </tr>\n",
       "    <tr>\n",
       "      <th>4</th>\n",
       "      <td>1910s</td>\n",
       "      <td>1920s</td>\n",
       "      <td>0.038549</td>\n",
       "      <td>0</td>\n",
       "    </tr>\n",
       "    <tr>\n",
       "      <th>...</th>\n",
       "      <td>...</td>\n",
       "      <td>...</td>\n",
       "      <td>...</td>\n",
       "      <td>...</td>\n",
       "    </tr>\n",
       "    <tr>\n",
       "      <th>41177</th>\n",
       "      <td>zoom</td>\n",
       "      <td>india</td>\n",
       "      <td>0.001010</td>\n",
       "      <td>0</td>\n",
       "    </tr>\n",
       "    <tr>\n",
       "      <th>41178</th>\n",
       "      <td>zoroastrianism</td>\n",
       "      <td>monotheism</td>\n",
       "      <td>0.021217</td>\n",
       "      <td>0</td>\n",
       "    </tr>\n",
       "    <tr>\n",
       "      <th>41179</th>\n",
       "      <td>zucchini</td>\n",
       "      <td>food</td>\n",
       "      <td>0.010976</td>\n",
       "      <td>0</td>\n",
       "    </tr>\n",
       "    <tr>\n",
       "      <th>41180</th>\n",
       "      <td>zucchini</td>\n",
       "      <td>novel</td>\n",
       "      <td>0.004437</td>\n",
       "      <td>0</td>\n",
       "    </tr>\n",
       "    <tr>\n",
       "      <th>41181</th>\n",
       "      <td>zucchini</td>\n",
       "      <td>squash</td>\n",
       "      <td>0.063625</td>\n",
       "      <td>0</td>\n",
       "    </tr>\n",
       "  </tbody>\n",
       "</table>\n",
       "<p>41182 rows × 4 columns</p>\n",
       "</div>"
      ],
      "text/plain": [
       "                 hypo       hyper       sim  is_oov\n",
       "0               1840s       1850s  0.127720       0\n",
       "1               1850s       1860s  0.193895       0\n",
       "2               1880s       1890s  0.051568       0\n",
       "3               1890s       1900s  0.065130       0\n",
       "4               1910s       1920s  0.038549       0\n",
       "...               ...         ...       ...     ...\n",
       "41177            zoom       india  0.001010       0\n",
       "41178  zoroastrianism  monotheism  0.021217       0\n",
       "41179        zucchini        food  0.010976       0\n",
       "41180        zucchini       novel  0.004437       0\n",
       "41181        zucchini      squash  0.063625       0\n",
       "\n",
       "[41182 rows x 4 columns]"
      ]
     },
     "execution_count": 4,
     "metadata": {},
     "output_type": "execute_result"
    }
   ],
   "source": [
    "example"
   ]
  },
  {
   "cell_type": "code",
   "execution_count": 5,
   "metadata": {},
   "outputs": [],
   "source": [
    "m = example.shape[0]\n"
   ]
  },
  {
   "cell_type": "code",
   "execution_count": 5,
   "metadata": {},
   "outputs": [],
   "source": [
    "\n"
   ]
  },
  {
   "cell_type": "code",
   "execution_count": 6,
   "metadata": {},
   "outputs": [
    {
     "name": "stderr",
     "output_type": "stream",
     "text": [
      "C:\\ProgramData\\Anaconda3\\lib\\site-packages\\ipykernel_launcher.py:6: SettingWithCopyWarning: \n",
      "A value is trying to be set on a copy of a slice from a DataFrame\n",
      "\n",
      "See the caveats in the documentation: https://pandas.pydata.org/pandas-docs/stable/user_guide/indexing.html#returning-a-view-versus-a-copy\n",
      "  \n",
      "C:\\ProgramData\\Anaconda3\\lib\\site-packages\\ipykernel_launcher.py:2: RuntimeWarning: invalid value encountered in log\n",
      "  \n",
      "C:\\ProgramData\\Anaconda3\\lib\\site-packages\\ipykernel_launcher.py:4: SettingWithCopyWarning: \n",
      "A value is trying to be set on a copy of a slice from a DataFrame\n",
      "\n",
      "See the caveats in the documentation: https://pandas.pydata.org/pandas-docs/stable/user_guide/indexing.html#returning-a-view-versus-a-copy\n",
      "  after removing the cwd from sys.path.\n"
     ]
    }
   ],
   "source": [
    "dic = get_dict_from_source(source1)\n",
    "for i in range(m):\n",
    "    if example.hypo[i] in dic.keys() and example.hyper[i] in dic.keys():\n",
    "        example.sim[i]= KL_repr(dic[example.hypo[i]],dic[example.hyper[i]])\n",
    "    else:\n",
    "        example.is_oov[i] =1\n",
    "\n",
    "test =np.array(example).tolist()\n",
    "import csv\n",
    "with open(r'F:/MSc DS/Project/Github_resource/hypernymysuite/hypernymysuite-master/example/kl_p1.tsv','w',newline='') as f:\n",
    "    tsv_w= csv.writer(f, delimiter='\\t')\n",
    "    tsv_w.writerow(['hypo','hyper','sim','is_oov'])\n",
    "    tsv_w.writerows(test)"
   ]
  },
  {
   "cell_type": "code",
   "execution_count": 33,
   "metadata": {},
   "outputs": [
    {
     "data": {
      "text/html": [
       "<div>\n",
       "<style scoped>\n",
       "    .dataframe tbody tr th:only-of-type {\n",
       "        vertical-align: middle;\n",
       "    }\n",
       "\n",
       "    .dataframe tbody tr th {\n",
       "        vertical-align: top;\n",
       "    }\n",
       "\n",
       "    .dataframe thead th {\n",
       "        text-align: right;\n",
       "    }\n",
       "</style>\n",
       "<table border=\"1\" class=\"dataframe\">\n",
       "  <thead>\n",
       "    <tr style=\"text-align: right;\">\n",
       "      <th></th>\n",
       "      <th>hypo</th>\n",
       "      <th>hyper</th>\n",
       "      <th>sim</th>\n",
       "      <th>is_oov</th>\n",
       "    </tr>\n",
       "  </thead>\n",
       "  <tbody>\n",
       "    <tr>\n",
       "      <th>0</th>\n",
       "      <td>1840s</td>\n",
       "      <td>1850s</td>\n",
       "      <td>0.127720</td>\n",
       "      <td>1</td>\n",
       "    </tr>\n",
       "    <tr>\n",
       "      <th>1</th>\n",
       "      <td>1850s</td>\n",
       "      <td>1860s</td>\n",
       "      <td>0.193895</td>\n",
       "      <td>1</td>\n",
       "    </tr>\n",
       "    <tr>\n",
       "      <th>2</th>\n",
       "      <td>1880s</td>\n",
       "      <td>1890s</td>\n",
       "      <td>0.051568</td>\n",
       "      <td>1</td>\n",
       "    </tr>\n",
       "    <tr>\n",
       "      <th>3</th>\n",
       "      <td>1890s</td>\n",
       "      <td>1900s</td>\n",
       "      <td>0.065130</td>\n",
       "      <td>1</td>\n",
       "    </tr>\n",
       "    <tr>\n",
       "      <th>4</th>\n",
       "      <td>1910s</td>\n",
       "      <td>1920s</td>\n",
       "      <td>0.038549</td>\n",
       "      <td>1</td>\n",
       "    </tr>\n",
       "    <tr>\n",
       "      <th>...</th>\n",
       "      <td>...</td>\n",
       "      <td>...</td>\n",
       "      <td>...</td>\n",
       "      <td>...</td>\n",
       "    </tr>\n",
       "    <tr>\n",
       "      <th>41177</th>\n",
       "      <td>zoom</td>\n",
       "      <td>india</td>\n",
       "      <td>0.760216</td>\n",
       "      <td>0</td>\n",
       "    </tr>\n",
       "    <tr>\n",
       "      <th>41178</th>\n",
       "      <td>zoroastrianism</td>\n",
       "      <td>monotheism</td>\n",
       "      <td>0.021217</td>\n",
       "      <td>1</td>\n",
       "    </tr>\n",
       "    <tr>\n",
       "      <th>41179</th>\n",
       "      <td>zucchini</td>\n",
       "      <td>food</td>\n",
       "      <td>0.501784</td>\n",
       "      <td>0</td>\n",
       "    </tr>\n",
       "    <tr>\n",
       "      <th>41180</th>\n",
       "      <td>zucchini</td>\n",
       "      <td>novel</td>\n",
       "      <td>0.670637</td>\n",
       "      <td>0</td>\n",
       "    </tr>\n",
       "    <tr>\n",
       "      <th>41181</th>\n",
       "      <td>zucchini</td>\n",
       "      <td>squash</td>\n",
       "      <td>0.642064</td>\n",
       "      <td>0</td>\n",
       "    </tr>\n",
       "  </tbody>\n",
       "</table>\n",
       "<p>41182 rows × 4 columns</p>\n",
       "</div>"
      ],
      "text/plain": [
       "                 hypo       hyper       sim  is_oov\n",
       "0               1840s       1850s  0.127720       1\n",
       "1               1850s       1860s  0.193895       1\n",
       "2               1880s       1890s  0.051568       1\n",
       "3               1890s       1900s  0.065130       1\n",
       "4               1910s       1920s  0.038549       1\n",
       "...               ...         ...       ...     ...\n",
       "41177            zoom       india  0.760216       0\n",
       "41178  zoroastrianism  monotheism  0.021217       1\n",
       "41179        zucchini        food  0.501784       0\n",
       "41180        zucchini       novel  0.670637       0\n",
       "41181        zucchini      squash  0.642064       0\n",
       "\n",
       "[41182 rows x 4 columns]"
      ]
     },
     "execution_count": 33,
     "metadata": {},
     "output_type": "execute_result"
    }
   ],
   "source": [
    "example"
   ]
  },
  {
   "cell_type": "code",
   "execution_count": 7,
   "metadata": {},
   "outputs": [
    {
     "name": "stderr",
     "output_type": "stream",
     "text": [
      "C:\\ProgramData\\Anaconda3\\lib\\site-packages\\ipykernel_launcher.py:6: SettingWithCopyWarning: \n",
      "A value is trying to be set on a copy of a slice from a DataFrame\n",
      "\n",
      "See the caveats in the documentation: https://pandas.pydata.org/pandas-docs/stable/user_guide/indexing.html#returning-a-view-versus-a-copy\n",
      "  \n",
      "C:\\ProgramData\\Anaconda3\\lib\\site-packages\\ipykernel_launcher.py:2: RuntimeWarning: invalid value encountered in log\n",
      "  \n",
      "C:\\ProgramData\\Anaconda3\\lib\\site-packages\\ipykernel_launcher.py:4: SettingWithCopyWarning: \n",
      "A value is trying to be set on a copy of a slice from a DataFrame\n",
      "\n",
      "See the caveats in the documentation: https://pandas.pydata.org/pandas-docs/stable/user_guide/indexing.html#returning-a-view-versus-a-copy\n",
      "  after removing the cwd from sys.path.\n"
     ]
    }
   ],
   "source": [
    "dic = get_dict_from_source(source2)\n",
    "for i in range(m):\n",
    "    if example.hypo[i] in dic.keys() and example.hyper[i] in dic.keys():\n",
    "        example.sim[i]= KL_repr(dic[example.hypo[i]],dic[example.hyper[i]])\n",
    "    else:\n",
    "        example.is_oov[i] =1\n",
    "\n",
    "test =np.array(example).tolist()\n",
    "import csv\n",
    "with open(r'F:/MSc DS/Project/Github_resource/hypernymysuite/hypernymysuite-master/example/kl_p2.tsv','w',newline='') as f:\n",
    "    tsv_w= csv.writer(f, delimiter='\\t')\n",
    "    tsv_w.writerow(['hypo','hyper','sim','is_oov'])\n",
    "    tsv_w.writerows(test)"
   ]
  },
  {
   "cell_type": "code",
   "execution_count": 8,
   "metadata": {},
   "outputs": [
    {
     "name": "stderr",
     "output_type": "stream",
     "text": [
      "C:\\ProgramData\\Anaconda3\\lib\\site-packages\\ipykernel_launcher.py:6: SettingWithCopyWarning: \n",
      "A value is trying to be set on a copy of a slice from a DataFrame\n",
      "\n",
      "See the caveats in the documentation: https://pandas.pydata.org/pandas-docs/stable/user_guide/indexing.html#returning-a-view-versus-a-copy\n",
      "  \n",
      "C:\\ProgramData\\Anaconda3\\lib\\site-packages\\ipykernel_launcher.py:2: RuntimeWarning: invalid value encountered in log\n",
      "  \n",
      "C:\\ProgramData\\Anaconda3\\lib\\site-packages\\ipykernel_launcher.py:4: SettingWithCopyWarning: \n",
      "A value is trying to be set on a copy of a slice from a DataFrame\n",
      "\n",
      "See the caveats in the documentation: https://pandas.pydata.org/pandas-docs/stable/user_guide/indexing.html#returning-a-view-versus-a-copy\n",
      "  after removing the cwd from sys.path.\n"
     ]
    }
   ],
   "source": [
    "dic = get_dict_from_source(source3)\n",
    "for i in range(m):\n",
    "    if example.hypo[i] in dic.keys() and example.hyper[i] in dic.keys():\n",
    "        example.sim[i]= KL_repr(dic[example.hypo[i]],dic[example.hyper[i]])\n",
    "    else:\n",
    "        example.is_oov[i] =1\n",
    "\n",
    "test =np.array(example).tolist()\n",
    "import csv\n",
    "with open(r'F:/MSc DS/Project/Github_resource/hypernymysuite/hypernymysuite-master/example/kl_p3.tsv','w',newline='') as f:\n",
    "    tsv_w= csv.writer(f, delimiter='\\t')\n",
    "    tsv_w.writerow(['hypo','hyper','sim','is_oov'])\n",
    "    tsv_w.writerows(test)"
   ]
  },
  {
   "cell_type": "code",
   "execution_count": 9,
   "metadata": {},
   "outputs": [
    {
     "name": "stderr",
     "output_type": "stream",
     "text": [
      "C:\\ProgramData\\Anaconda3\\lib\\site-packages\\ipykernel_launcher.py:6: SettingWithCopyWarning: \n",
      "A value is trying to be set on a copy of a slice from a DataFrame\n",
      "\n",
      "See the caveats in the documentation: https://pandas.pydata.org/pandas-docs/stable/user_guide/indexing.html#returning-a-view-versus-a-copy\n",
      "  \n",
      "C:\\ProgramData\\Anaconda3\\lib\\site-packages\\ipykernel_launcher.py:2: RuntimeWarning: invalid value encountered in log\n",
      "  \n",
      "C:\\ProgramData\\Anaconda3\\lib\\site-packages\\ipykernel_launcher.py:4: SettingWithCopyWarning: \n",
      "A value is trying to be set on a copy of a slice from a DataFrame\n",
      "\n",
      "See the caveats in the documentation: https://pandas.pydata.org/pandas-docs/stable/user_guide/indexing.html#returning-a-view-versus-a-copy\n",
      "  after removing the cwd from sys.path.\n"
     ]
    }
   ],
   "source": [
    "dic = get_dict_from_source(source4)\n",
    "for i in range(m):\n",
    "    if example.hypo[i] in dic.keys() and example.hyper[i] in dic.keys():\n",
    "        example.sim[i]= KL_repr(dic[example.hypo[i]],dic[example.hyper[i]])\n",
    "    else:\n",
    "        example.is_oov[i] =1\n",
    "\n",
    "test =np.array(example).tolist()\n",
    "import csv\n",
    "with open(r'F:/MSc DS/Project/Github_resource/hypernymysuite/hypernymysuite-master/example/kl_p4.tsv','w',newline='') as f:\n",
    "    tsv_w= csv.writer(f, delimiter='\\t')\n",
    "    tsv_w.writerow(['hypo','hyper','sim','is_oov'])\n",
    "    tsv_w.writerows(test)"
   ]
  },
  {
   "cell_type": "code",
   "execution_count": 10,
   "metadata": {},
   "outputs": [
    {
     "name": "stderr",
     "output_type": "stream",
     "text": [
      "C:\\ProgramData\\Anaconda3\\lib\\site-packages\\ipykernel_launcher.py:6: SettingWithCopyWarning: \n",
      "A value is trying to be set on a copy of a slice from a DataFrame\n",
      "\n",
      "See the caveats in the documentation: https://pandas.pydata.org/pandas-docs/stable/user_guide/indexing.html#returning-a-view-versus-a-copy\n",
      "  \n",
      "C:\\ProgramData\\Anaconda3\\lib\\site-packages\\ipykernel_launcher.py:2: RuntimeWarning: invalid value encountered in log\n",
      "  \n",
      "C:\\ProgramData\\Anaconda3\\lib\\site-packages\\ipykernel_launcher.py:4: SettingWithCopyWarning: \n",
      "A value is trying to be set on a copy of a slice from a DataFrame\n",
      "\n",
      "See the caveats in the documentation: https://pandas.pydata.org/pandas-docs/stable/user_guide/indexing.html#returning-a-view-versus-a-copy\n",
      "  after removing the cwd from sys.path.\n"
     ]
    }
   ],
   "source": [
    "dic = get_dict_from_source(source5)\n",
    "for i in range(m):\n",
    "    if example.hypo[i] in dic.keys() and example.hyper[i] in dic.keys():\n",
    "        example.sim[i]= KL_repr(dic[example.hypo[i]],dic[example.hyper[i]])\n",
    "    else:\n",
    "        example.is_oov[i] =1\n",
    "\n",
    "test =np.array(example).tolist()\n",
    "import csv\n",
    "with open(r'F:/MSc DS/Project/Github_resource/hypernymysuite/hypernymysuite-master/example/kl_p5.tsv','w',newline='') as f:\n",
    "    tsv_w= csv.writer(f, delimiter='\\t')\n",
    "    tsv_w.writerow(['hypo','hyper','sim','is_oov'])\n",
    "    tsv_w.writerows(test)"
   ]
  },
  {
   "cell_type": "code",
   "execution_count": 11,
   "metadata": {},
   "outputs": [
    {
     "name": "stderr",
     "output_type": "stream",
     "text": [
      "C:\\ProgramData\\Anaconda3\\lib\\site-packages\\ipykernel_launcher.py:6: SettingWithCopyWarning: \n",
      "A value is trying to be set on a copy of a slice from a DataFrame\n",
      "\n",
      "See the caveats in the documentation: https://pandas.pydata.org/pandas-docs/stable/user_guide/indexing.html#returning-a-view-versus-a-copy\n",
      "  \n",
      "C:\\ProgramData\\Anaconda3\\lib\\site-packages\\ipykernel_launcher.py:2: RuntimeWarning: invalid value encountered in log\n",
      "  \n",
      "C:\\ProgramData\\Anaconda3\\lib\\site-packages\\ipykernel_launcher.py:4: SettingWithCopyWarning: \n",
      "A value is trying to be set on a copy of a slice from a DataFrame\n",
      "\n",
      "See the caveats in the documentation: https://pandas.pydata.org/pandas-docs/stable/user_guide/indexing.html#returning-a-view-versus-a-copy\n",
      "  after removing the cwd from sys.path.\n"
     ]
    }
   ],
   "source": [
    "dic = get_dict_from_source(source6)\n",
    "for i in range(m):\n",
    "    if example.hypo[i] in dic.keys() and example.hyper[i] in dic.keys():\n",
    "        example.sim[i]= KL_repr(dic[example.hypo[i]],dic[example.hyper[i]])\n",
    "    else:\n",
    "        example.is_oov[i] =1\n",
    "\n",
    "test =np.array(example).tolist()\n",
    "import csv\n",
    "with open(r'F:/MSc DS/Project/Github_resource/hypernymysuite/hypernymysuite-master/example/kl_p6.tsv','w',newline='') as f:\n",
    "    tsv_w= csv.writer(f, delimiter='\\t')\n",
    "    tsv_w.writerow(['hypo','hyper','sim','is_oov'])\n",
    "    tsv_w.writerows(test)"
   ]
  },
  {
   "cell_type": "code",
   "execution_count": 12,
   "metadata": {},
   "outputs": [
    {
     "name": "stderr",
     "output_type": "stream",
     "text": [
      "C:\\ProgramData\\Anaconda3\\lib\\site-packages\\ipykernel_launcher.py:6: SettingWithCopyWarning: \n",
      "A value is trying to be set on a copy of a slice from a DataFrame\n",
      "\n",
      "See the caveats in the documentation: https://pandas.pydata.org/pandas-docs/stable/user_guide/indexing.html#returning-a-view-versus-a-copy\n",
      "  \n",
      "C:\\ProgramData\\Anaconda3\\lib\\site-packages\\ipykernel_launcher.py:2: RuntimeWarning: invalid value encountered in log\n",
      "  \n",
      "C:\\ProgramData\\Anaconda3\\lib\\site-packages\\ipykernel_launcher.py:4: SettingWithCopyWarning: \n",
      "A value is trying to be set on a copy of a slice from a DataFrame\n",
      "\n",
      "See the caveats in the documentation: https://pandas.pydata.org/pandas-docs/stable/user_guide/indexing.html#returning-a-view-versus-a-copy\n",
      "  after removing the cwd from sys.path.\n"
     ]
    }
   ],
   "source": [
    "dic = get_dict_from_source(source7)\n",
    "for i in range(m):\n",
    "    if example.hypo[i] in dic.keys() and example.hyper[i] in dic.keys():\n",
    "        example.sim[i]= KL_repr(dic[example.hypo[i]],dic[example.hyper[i]])\n",
    "    else:\n",
    "        example.is_oov[i] =1\n",
    "\n",
    "test =np.array(example).tolist()\n",
    "import csv\n",
    "with open(r'F:/MSc DS/Project/Github_resource/hypernymysuite/hypernymysuite-master/example/kl_p7.tsv','w',newline='') as f:\n",
    "    tsv_w= csv.writer(f, delimiter='\\t')\n",
    "    tsv_w.writerow(['hypo','hyper','sim','is_oov'])\n",
    "    tsv_w.writerows(test)"
   ]
  },
  {
   "cell_type": "code",
   "execution_count": 13,
   "metadata": {},
   "outputs": [
    {
     "name": "stderr",
     "output_type": "stream",
     "text": [
      "C:\\ProgramData\\Anaconda3\\lib\\site-packages\\ipykernel_launcher.py:6: SettingWithCopyWarning: \n",
      "A value is trying to be set on a copy of a slice from a DataFrame\n",
      "\n",
      "See the caveats in the documentation: https://pandas.pydata.org/pandas-docs/stable/user_guide/indexing.html#returning-a-view-versus-a-copy\n",
      "  \n",
      "C:\\ProgramData\\Anaconda3\\lib\\site-packages\\ipykernel_launcher.py:2: RuntimeWarning: invalid value encountered in log\n",
      "  \n",
      "C:\\ProgramData\\Anaconda3\\lib\\site-packages\\ipykernel_launcher.py:4: SettingWithCopyWarning: \n",
      "A value is trying to be set on a copy of a slice from a DataFrame\n",
      "\n",
      "See the caveats in the documentation: https://pandas.pydata.org/pandas-docs/stable/user_guide/indexing.html#returning-a-view-versus-a-copy\n",
      "  after removing the cwd from sys.path.\n"
     ]
    }
   ],
   "source": [
    "dic = get_dict_from_source(source8)\n",
    "for i in range(m):\n",
    "    if example.hypo[i] in dic.keys() and example.hyper[i] in dic.keys():\n",
    "        example.sim[i]= KL_repr(dic[example.hypo[i]],dic[example.hyper[i]])\n",
    "    else:\n",
    "        example.is_oov[i] =1\n",
    "\n",
    "test =np.array(example).tolist()\n",
    "import csv\n",
    "with open(r'F:/MSc DS/Project/Github_resource/hypernymysuite/hypernymysuite-master/example/kl_p8.tsv','w',newline='') as f:\n",
    "    tsv_w= csv.writer(f, delimiter='\\t')\n",
    "    tsv_w.writerow(['hypo','hyper','sim','is_oov'])\n",
    "    tsv_w.writerows(test)"
   ]
  },
  {
   "cell_type": "code",
   "execution_count": 14,
   "metadata": {},
   "outputs": [
    {
     "name": "stderr",
     "output_type": "stream",
     "text": [
      "C:\\ProgramData\\Anaconda3\\lib\\site-packages\\ipykernel_launcher.py:6: SettingWithCopyWarning: \n",
      "A value is trying to be set on a copy of a slice from a DataFrame\n",
      "\n",
      "See the caveats in the documentation: https://pandas.pydata.org/pandas-docs/stable/user_guide/indexing.html#returning-a-view-versus-a-copy\n",
      "  \n",
      "C:\\ProgramData\\Anaconda3\\lib\\site-packages\\ipykernel_launcher.py:2: RuntimeWarning: invalid value encountered in log\n",
      "  \n",
      "C:\\ProgramData\\Anaconda3\\lib\\site-packages\\ipykernel_launcher.py:4: SettingWithCopyWarning: \n",
      "A value is trying to be set on a copy of a slice from a DataFrame\n",
      "\n",
      "See the caveats in the documentation: https://pandas.pydata.org/pandas-docs/stable/user_guide/indexing.html#returning-a-view-versus-a-copy\n",
      "  after removing the cwd from sys.path.\n"
     ]
    }
   ],
   "source": [
    "dic = get_dict_from_source(source9)\n",
    "for i in range(m):\n",
    "    if example.hypo[i] in dic.keys() and example.hyper[i] in dic.keys():\n",
    "        example.sim[i]= KL_repr(dic[example.hypo[i]],dic[example.hyper[i]])\n",
    "    else:\n",
    "        example.is_oov[i] =1\n",
    "\n",
    "test =np.array(example).tolist()\n",
    "import csv\n",
    "with open(r'F:/MSc DS/Project/Github_resource/hypernymysuite/hypernymysuite-master/example/kl_p9.tsv','w',newline='') as f:\n",
    "    tsv_w= csv.writer(f, delimiter='\\t')\n",
    "    tsv_w.writerow(['hypo','hyper','sim','is_oov'])\n",
    "    tsv_w.writerows(test)"
   ]
  },
  {
   "cell_type": "code",
   "execution_count": null,
   "metadata": {},
   "outputs": [],
   "source": []
  }
 ],
 "metadata": {
  "kernelspec": {
   "display_name": "Python 3",
   "language": "python",
   "name": "python3"
  },
  "language_info": {
   "codemirror_mode": {
    "name": "ipython",
    "version": 3
   },
   "file_extension": ".py",
   "mimetype": "text/x-python",
   "name": "python",
   "nbconvert_exporter": "python",
   "pygments_lexer": "ipython3",
   "version": "3.7.4"
  }
 },
 "nbformat": 4,
 "nbformat_minor": 2
}
