{
 "cells": [
  {
   "cell_type": "code",
   "execution_count": 1,
   "metadata": {},
   "outputs": [],
   "source": [
    "from word2gauss import embeddings"
   ]
  },
  {
   "cell_type": "code",
   "execution_count": 2,
   "metadata": {},
   "outputs": [
    {
     "data": {
      "text/plain": [
       "word2gauss.embeddings.GaussianEmbedding"
      ]
     },
     "execution_count": 2,
     "metadata": {},
     "output_type": "execute_result"
    }
   ],
   "source": [
    "embeddings.GaussianEmbedding"
   ]
  },
  {
   "cell_type": "code",
   "execution_count": 3,
   "metadata": {},
   "outputs": [],
   "source": [
    "from word2gauss import GaussianEmbedding, iter_pairs\n",
    "from vocab import Vocabulary\n",
    "\n",
    "# v = Vocabulary()\n",
    "# with open('./text8.txt','r', encoding='utf-8') as corpus:\n",
    "#     v.create(corpus,[(10000000,5,350)])\n",
    "#\n",
    "# v.save('text8_voc.gz')  #save file\n",
    "\n",
    "# load vocab\n",
    "v = Vocabulary.load('F:/project_code/text8_voc.gz')\n",
    "\n"
   ]
  },
  {
   "cell_type": "code",
   "execution_count": 4,
   "metadata": {},
   "outputs": [],
   "source": [
    "embed =GaussianEmbedding(len(v),50,covariance_type='diagonal', energy_type='KL')\n"
   ]
  },
  {
   "cell_type": "code",
   "execution_count": 5,
   "metadata": {},
   "outputs": [],
   "source": [
    "with open('F:/project_code/text8.txt','r', encoding='utf-8') as corpus:\n",
    "    embed.train(iter_pairs(corpus,v),n_workers =8)"
   ]
  },
  {
   "cell_type": "code",
   "execution_count": 6,
   "metadata": {},
   "outputs": [],
   "source": [
    "import numpy as np"
   ]
  },
  {
   "cell_type": "code",
   "execution_count": 7,
   "metadata": {},
   "outputs": [],
   "source": [
    "import pandas as pd\n",
    "example = pd.read_csv('F:/MSc DS/Project/Github_resource/hypernymysuite/hypernymysuite-master/example.tsv',sep='\\t',header =0)"
   ]
  },
  {
   "cell_type": "code",
   "execution_count": 8,
   "metadata": {},
   "outputs": [],
   "source": [
    "def KL_div(mui,muj, sigmai,sigmaj,K =50):\n",
    "    trace_fac =0.0\n",
    "    mu_diff_sq =0.0\n",
    "    det_fac =1.0\n",
    "    for k in range(K):\n",
    "        sigma_ratio = sigmai[k]/sigmaj[k]\n",
    "        trace_fac +=sigma_ratio\n",
    "        mu_diff = mui[k]-muj[k]\n",
    "        mu_diff_sq += mu_diff* mu_diff/sigmaj[k]\n",
    "        \n",
    "        det_fac *= sigma_ratio\n",
    "        \n",
    "        # boound def_fac\n",
    "    if det_fac < 1.0e-8:\n",
    "        det_fac = 1.0e-8\n",
    "    elif det_fac > 1.0e8:\n",
    "        det_fac = 1.0e8\n",
    "        \n",
    "    \n",
    "#     sigma_ratio = sigmai/sigmaj\n",
    "#     det_fac = K*np.log(sigma_ratio)\n",
    "#     trace_fac = K* sigma_ratio\n",
    "    \n",
    "#     mu_diff_sq = 0\n",
    "#     for k in range(K):\n",
    "#         mu_diff = mui[k]-muj[k]\n",
    "#         mu_diff_sq += mu_diff* mu_diff\n",
    "        \n",
    "    return 0.5*(trace_fac + mu_diff_sq - K - np.log(det_fac))"
   ]
  },
  {
   "cell_type": "code",
   "execution_count": 9,
   "metadata": {},
   "outputs": [
    {
     "data": {
      "text/html": [
       "<div>\n",
       "<style scoped>\n",
       "    .dataframe tbody tr th:only-of-type {\n",
       "        vertical-align: middle;\n",
       "    }\n",
       "\n",
       "    .dataframe tbody tr th {\n",
       "        vertical-align: top;\n",
       "    }\n",
       "\n",
       "    .dataframe thead th {\n",
       "        text-align: right;\n",
       "    }\n",
       "</style>\n",
       "<table border=\"1\" class=\"dataframe\">\n",
       "  <thead>\n",
       "    <tr style=\"text-align: right;\">\n",
       "      <th></th>\n",
       "      <th>hypo</th>\n",
       "      <th>hyper</th>\n",
       "      <th>sim</th>\n",
       "      <th>is_oov</th>\n",
       "    </tr>\n",
       "  </thead>\n",
       "  <tbody>\n",
       "    <tr>\n",
       "      <th>0</th>\n",
       "      <td>1840s</td>\n",
       "      <td>1850s</td>\n",
       "      <td>0.127720</td>\n",
       "      <td>0</td>\n",
       "    </tr>\n",
       "    <tr>\n",
       "      <th>1</th>\n",
       "      <td>1850s</td>\n",
       "      <td>1860s</td>\n",
       "      <td>0.193895</td>\n",
       "      <td>0</td>\n",
       "    </tr>\n",
       "    <tr>\n",
       "      <th>2</th>\n",
       "      <td>1880s</td>\n",
       "      <td>1890s</td>\n",
       "      <td>0.051568</td>\n",
       "      <td>0</td>\n",
       "    </tr>\n",
       "    <tr>\n",
       "      <th>3</th>\n",
       "      <td>1890s</td>\n",
       "      <td>1900s</td>\n",
       "      <td>0.065130</td>\n",
       "      <td>0</td>\n",
       "    </tr>\n",
       "    <tr>\n",
       "      <th>4</th>\n",
       "      <td>1910s</td>\n",
       "      <td>1920s</td>\n",
       "      <td>0.038549</td>\n",
       "      <td>0</td>\n",
       "    </tr>\n",
       "    <tr>\n",
       "      <th>...</th>\n",
       "      <td>...</td>\n",
       "      <td>...</td>\n",
       "      <td>...</td>\n",
       "      <td>...</td>\n",
       "    </tr>\n",
       "    <tr>\n",
       "      <th>41177</th>\n",
       "      <td>zoom</td>\n",
       "      <td>india</td>\n",
       "      <td>0.001010</td>\n",
       "      <td>0</td>\n",
       "    </tr>\n",
       "    <tr>\n",
       "      <th>41178</th>\n",
       "      <td>zoroastrianism</td>\n",
       "      <td>monotheism</td>\n",
       "      <td>0.021217</td>\n",
       "      <td>0</td>\n",
       "    </tr>\n",
       "    <tr>\n",
       "      <th>41179</th>\n",
       "      <td>zucchini</td>\n",
       "      <td>food</td>\n",
       "      <td>0.010976</td>\n",
       "      <td>0</td>\n",
       "    </tr>\n",
       "    <tr>\n",
       "      <th>41180</th>\n",
       "      <td>zucchini</td>\n",
       "      <td>novel</td>\n",
       "      <td>0.004437</td>\n",
       "      <td>0</td>\n",
       "    </tr>\n",
       "    <tr>\n",
       "      <th>41181</th>\n",
       "      <td>zucchini</td>\n",
       "      <td>squash</td>\n",
       "      <td>0.063625</td>\n",
       "      <td>0</td>\n",
       "    </tr>\n",
       "  </tbody>\n",
       "</table>\n",
       "<p>41182 rows × 4 columns</p>\n",
       "</div>"
      ],
      "text/plain": [
       "                 hypo       hyper       sim  is_oov\n",
       "0               1840s       1850s  0.127720       0\n",
       "1               1850s       1860s  0.193895       0\n",
       "2               1880s       1890s  0.051568       0\n",
       "3               1890s       1900s  0.065130       0\n",
       "4               1910s       1920s  0.038549       0\n",
       "...               ...         ...       ...     ...\n",
       "41177            zoom       india  0.001010       0\n",
       "41178  zoroastrianism  monotheism  0.021217       0\n",
       "41179        zucchini        food  0.010976       0\n",
       "41180        zucchini       novel  0.004437       0\n",
       "41181        zucchini      squash  0.063625       0\n",
       "\n",
       "[41182 rows x 4 columns]"
      ]
     },
     "execution_count": 9,
     "metadata": {},
     "output_type": "execute_result"
    }
   ],
   "source": [
    "example"
   ]
  },
  {
   "cell_type": "code",
   "execution_count": 18,
   "metadata": {},
   "outputs": [],
   "source": [
    "# use representativeness\n",
    "def get_sim(word1, word2):\n",
    "    result =  KL_div(embed.mu[v.word2id(word1)],embed.mu[v.word2id(word2)],embed.sigma[v.word2id(word1)],embed.sigma[v.word2id(word2)])\n",
    "#     result =1/(1+kl)\n",
    "    return result"
   ]
  },
  {
   "cell_type": "code",
   "execution_count": 19,
   "metadata": {},
   "outputs": [],
   "source": [
    "m = example.shape[0]"
   ]
  },
  {
   "cell_type": "code",
   "execution_count": 20,
   "metadata": {},
   "outputs": [
    {
     "name": "stderr",
     "output_type": "stream",
     "text": [
      "C:\\ProgramData\\Anaconda3\\lib\\site-packages\\ipykernel_launcher.py:5: SettingWithCopyWarning: \n",
      "A value is trying to be set on a copy of a slice from a DataFrame\n",
      "\n",
      "See the caveats in the documentation: https://pandas.pydata.org/pandas-docs/stable/user_guide/indexing.html#returning-a-view-versus-a-copy\n",
      "  \"\"\"\n",
      "C:\\ProgramData\\Anaconda3\\lib\\site-packages\\ipykernel_launcher.py:3: SettingWithCopyWarning: \n",
      "A value is trying to be set on a copy of a slice from a DataFrame\n",
      "\n",
      "See the caveats in the documentation: https://pandas.pydata.org/pandas-docs/stable/user_guide/indexing.html#returning-a-view-versus-a-copy\n",
      "  This is separate from the ipykernel package so we can avoid doing imports until\n"
     ]
    }
   ],
   "source": [
    "for i in range(m):\n",
    "    try:\n",
    "        example.sim[i]= get_sim(example.hypo[i],example.hyper[i])\n",
    "    except KeyError as e:\n",
    "        example.is_oov[i] =1\n",
    "        \n"
   ]
  },
  {
   "cell_type": "code",
   "execution_count": 21,
   "metadata": {},
   "outputs": [
    {
     "data": {
      "text/html": [
       "<div>\n",
       "<style scoped>\n",
       "    .dataframe tbody tr th:only-of-type {\n",
       "        vertical-align: middle;\n",
       "    }\n",
       "\n",
       "    .dataframe tbody tr th {\n",
       "        vertical-align: top;\n",
       "    }\n",
       "\n",
       "    .dataframe thead th {\n",
       "        text-align: right;\n",
       "    }\n",
       "</style>\n",
       "<table border=\"1\" class=\"dataframe\">\n",
       "  <thead>\n",
       "    <tr style=\"text-align: right;\">\n",
       "      <th></th>\n",
       "      <th>hypo</th>\n",
       "      <th>hyper</th>\n",
       "      <th>sim</th>\n",
       "      <th>is_oov</th>\n",
       "    </tr>\n",
       "  </thead>\n",
       "  <tbody>\n",
       "    <tr>\n",
       "      <th>0</th>\n",
       "      <td>1840s</td>\n",
       "      <td>1850s</td>\n",
       "      <td>0.127720</td>\n",
       "      <td>1</td>\n",
       "    </tr>\n",
       "    <tr>\n",
       "      <th>1</th>\n",
       "      <td>1850s</td>\n",
       "      <td>1860s</td>\n",
       "      <td>0.193895</td>\n",
       "      <td>1</td>\n",
       "    </tr>\n",
       "    <tr>\n",
       "      <th>2</th>\n",
       "      <td>1880s</td>\n",
       "      <td>1890s</td>\n",
       "      <td>0.051568</td>\n",
       "      <td>1</td>\n",
       "    </tr>\n",
       "    <tr>\n",
       "      <th>3</th>\n",
       "      <td>1890s</td>\n",
       "      <td>1900s</td>\n",
       "      <td>0.065130</td>\n",
       "      <td>1</td>\n",
       "    </tr>\n",
       "    <tr>\n",
       "      <th>4</th>\n",
       "      <td>1910s</td>\n",
       "      <td>1920s</td>\n",
       "      <td>0.038549</td>\n",
       "      <td>1</td>\n",
       "    </tr>\n",
       "    <tr>\n",
       "      <th>...</th>\n",
       "      <td>...</td>\n",
       "      <td>...</td>\n",
       "      <td>...</td>\n",
       "      <td>...</td>\n",
       "    </tr>\n",
       "    <tr>\n",
       "      <th>41177</th>\n",
       "      <td>zoom</td>\n",
       "      <td>india</td>\n",
       "      <td>0.922758</td>\n",
       "      <td>0</td>\n",
       "    </tr>\n",
       "    <tr>\n",
       "      <th>41178</th>\n",
       "      <td>zoroastrianism</td>\n",
       "      <td>monotheism</td>\n",
       "      <td>1.244250</td>\n",
       "      <td>0</td>\n",
       "    </tr>\n",
       "    <tr>\n",
       "      <th>41179</th>\n",
       "      <td>zucchini</td>\n",
       "      <td>food</td>\n",
       "      <td>1.289799</td>\n",
       "      <td>0</td>\n",
       "    </tr>\n",
       "    <tr>\n",
       "      <th>41180</th>\n",
       "      <td>zucchini</td>\n",
       "      <td>novel</td>\n",
       "      <td>1.214786</td>\n",
       "      <td>0</td>\n",
       "    </tr>\n",
       "    <tr>\n",
       "      <th>41181</th>\n",
       "      <td>zucchini</td>\n",
       "      <td>squash</td>\n",
       "      <td>1.634293</td>\n",
       "      <td>0</td>\n",
       "    </tr>\n",
       "  </tbody>\n",
       "</table>\n",
       "<p>41182 rows × 4 columns</p>\n",
       "</div>"
      ],
      "text/plain": [
       "                 hypo       hyper       sim  is_oov\n",
       "0               1840s       1850s  0.127720       1\n",
       "1               1850s       1860s  0.193895       1\n",
       "2               1880s       1890s  0.051568       1\n",
       "3               1890s       1900s  0.065130       1\n",
       "4               1910s       1920s  0.038549       1\n",
       "...               ...         ...       ...     ...\n",
       "41177            zoom       india  0.922758       0\n",
       "41178  zoroastrianism  monotheism  1.244250       0\n",
       "41179        zucchini        food  1.289799       0\n",
       "41180        zucchini       novel  1.214786       0\n",
       "41181        zucchini      squash  1.634293       0\n",
       "\n",
       "[41182 rows x 4 columns]"
      ]
     },
     "execution_count": 21,
     "metadata": {},
     "output_type": "execute_result"
    }
   ],
   "source": [
    "example"
   ]
  },
  {
   "cell_type": "code",
   "execution_count": 22,
   "metadata": {},
   "outputs": [],
   "source": [
    "test =np.array(example).tolist()\n",
    "import csv\n",
    "with open(r'F:/MSc DS/Project/Github_resource/hypernymysuite/hypernymysuite-master/KL_text8_diagonal.tsv','w',newline='') as f:\n",
    "    tsv_w= csv.writer(f, delimiter='\\t')\n",
    "    tsv_w.writerow(['hypo','hyper','sim','is_oov'])\n",
    "    tsv_w.writerows(test)"
   ]
  },
  {
   "cell_type": "code",
   "execution_count": 23,
   "metadata": {},
   "outputs": [
    {
     "data": {
      "text/plain": [
       "0.22819927569503579"
      ]
     },
     "execution_count": 23,
     "metadata": {},
     "output_type": "execute_result"
    }
   ],
   "source": [
    "get_sim('cat','animal')"
   ]
  },
  {
   "cell_type": "code",
   "execution_count": 16,
   "metadata": {},
   "outputs": [
    {
     "data": {
      "text/plain": [
       "0.8135515997241897"
      ]
     },
     "execution_count": 16,
     "metadata": {},
     "output_type": "execute_result"
    }
   ],
   "source": [
    "get_sim('animal','cat')"
   ]
  },
  {
   "cell_type": "code",
   "execution_count": null,
   "metadata": {},
   "outputs": [],
   "source": []
  }
 ],
 "metadata": {
  "kernelspec": {
   "display_name": "Python 3",
   "language": "python",
   "name": "python3"
  },
  "language_info": {
   "codemirror_mode": {
    "name": "ipython",
    "version": 3
   },
   "file_extension": ".py",
   "mimetype": "text/x-python",
   "name": "python",
   "nbconvert_exporter": "python",
   "pygments_lexer": "ipython3",
   "version": "3.7.4"
  }
 },
 "nbformat": 4,
 "nbformat_minor": 2
}
