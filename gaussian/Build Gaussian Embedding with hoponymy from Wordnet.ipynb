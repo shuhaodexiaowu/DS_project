{
 "cells": [
  {
   "cell_type": "code",
   "execution_count": 1,
   "metadata": {},
   "outputs": [],
   "source": [
    "from nltk.corpus import wordnet as wn"
   ]
  },
  {
   "cell_type": "code",
   "execution_count": 2,
   "metadata": {},
   "outputs": [],
   "source": [
    "source = \"F:/MSc DS/Project/glove.6B.50d.txt\""
   ]
  },
  {
   "cell_type": "code",
   "execution_count": 3,
   "metadata": {},
   "outputs": [],
   "source": [
    "voc =[]\n",
    "vector =[]\n",
    "with open(source,encoding ='utf-8') as f:\n",
    "    for line in f:\n",
    "        linelist = line.split()\n",
    "        voc.append(linelist[0])\n",
    "        vec = linelist[1:]\n",
    "        vec = [float(i) for i in vec]\n",
    "        vector.append(vec)"
   ]
  },
  {
   "cell_type": "code",
   "execution_count": 4,
   "metadata": {},
   "outputs": [],
   "source": [
    "# get the dic for all 400000tokens\n",
    "n= len(voc)\n",
    "dic = {}\n",
    "for i in range(n):\n",
    "    dic[voc[i]]=vector[i]"
   ]
  },
  {
   "cell_type": "code",
   "execution_count": 5,
   "metadata": {},
   "outputs": [],
   "source": [
    "import pandas as pd\n",
    "example = pd.read_csv('F:/MSc DS/Project/Github_resource/hypernymysuite/hypernymysuite-master/example.tsv',sep='\\t',header =0)\n",
    "m = example.shape[0]"
   ]
  },
  {
   "cell_type": "code",
   "execution_count": 6,
   "metadata": {},
   "outputs": [
    {
     "data": {
      "text/html": [
       "<div>\n",
       "<style scoped>\n",
       "    .dataframe tbody tr th:only-of-type {\n",
       "        vertical-align: middle;\n",
       "    }\n",
       "\n",
       "    .dataframe tbody tr th {\n",
       "        vertical-align: top;\n",
       "    }\n",
       "\n",
       "    .dataframe thead th {\n",
       "        text-align: right;\n",
       "    }\n",
       "</style>\n",
       "<table border=\"1\" class=\"dataframe\">\n",
       "  <thead>\n",
       "    <tr style=\"text-align: right;\">\n",
       "      <th></th>\n",
       "      <th>hypo</th>\n",
       "      <th>hyper</th>\n",
       "      <th>sim</th>\n",
       "      <th>is_oov</th>\n",
       "    </tr>\n",
       "  </thead>\n",
       "  <tbody>\n",
       "    <tr>\n",
       "      <th>0</th>\n",
       "      <td>1840s</td>\n",
       "      <td>1850s</td>\n",
       "      <td>0.127720</td>\n",
       "      <td>0</td>\n",
       "    </tr>\n",
       "    <tr>\n",
       "      <th>1</th>\n",
       "      <td>1850s</td>\n",
       "      <td>1860s</td>\n",
       "      <td>0.193895</td>\n",
       "      <td>0</td>\n",
       "    </tr>\n",
       "    <tr>\n",
       "      <th>2</th>\n",
       "      <td>1880s</td>\n",
       "      <td>1890s</td>\n",
       "      <td>0.051568</td>\n",
       "      <td>0</td>\n",
       "    </tr>\n",
       "    <tr>\n",
       "      <th>3</th>\n",
       "      <td>1890s</td>\n",
       "      <td>1900s</td>\n",
       "      <td>0.065130</td>\n",
       "      <td>0</td>\n",
       "    </tr>\n",
       "    <tr>\n",
       "      <th>4</th>\n",
       "      <td>1910s</td>\n",
       "      <td>1920s</td>\n",
       "      <td>0.038549</td>\n",
       "      <td>0</td>\n",
       "    </tr>\n",
       "    <tr>\n",
       "      <th>...</th>\n",
       "      <td>...</td>\n",
       "      <td>...</td>\n",
       "      <td>...</td>\n",
       "      <td>...</td>\n",
       "    </tr>\n",
       "    <tr>\n",
       "      <th>41177</th>\n",
       "      <td>zoom</td>\n",
       "      <td>india</td>\n",
       "      <td>0.001010</td>\n",
       "      <td>0</td>\n",
       "    </tr>\n",
       "    <tr>\n",
       "      <th>41178</th>\n",
       "      <td>zoroastrianism</td>\n",
       "      <td>monotheism</td>\n",
       "      <td>0.021217</td>\n",
       "      <td>0</td>\n",
       "    </tr>\n",
       "    <tr>\n",
       "      <th>41179</th>\n",
       "      <td>zucchini</td>\n",
       "      <td>food</td>\n",
       "      <td>0.010976</td>\n",
       "      <td>0</td>\n",
       "    </tr>\n",
       "    <tr>\n",
       "      <th>41180</th>\n",
       "      <td>zucchini</td>\n",
       "      <td>novel</td>\n",
       "      <td>0.004437</td>\n",
       "      <td>0</td>\n",
       "    </tr>\n",
       "    <tr>\n",
       "      <th>41181</th>\n",
       "      <td>zucchini</td>\n",
       "      <td>squash</td>\n",
       "      <td>0.063625</td>\n",
       "      <td>0</td>\n",
       "    </tr>\n",
       "  </tbody>\n",
       "</table>\n",
       "<p>41182 rows × 4 columns</p>\n",
       "</div>"
      ],
      "text/plain": [
       "                 hypo       hyper       sim  is_oov\n",
       "0               1840s       1850s  0.127720       0\n",
       "1               1850s       1860s  0.193895       0\n",
       "2               1880s       1890s  0.051568       0\n",
       "3               1890s       1900s  0.065130       0\n",
       "4               1910s       1920s  0.038549       0\n",
       "...               ...         ...       ...     ...\n",
       "41177            zoom       india  0.001010       0\n",
       "41178  zoroastrianism  monotheism  0.021217       0\n",
       "41179        zucchini        food  0.010976       0\n",
       "41180        zucchini       novel  0.004437       0\n",
       "41181        zucchini      squash  0.063625       0\n",
       "\n",
       "[41182 rows x 4 columns]"
      ]
     },
     "execution_count": 6,
     "metadata": {},
     "output_type": "execute_result"
    }
   ],
   "source": [
    "example"
   ]
  },
  {
   "cell_type": "code",
   "execution_count": 7,
   "metadata": {},
   "outputs": [],
   "source": [
    "a =list(example.hypo)\n",
    "b = list(example.hyper)"
   ]
  },
  {
   "cell_type": "code",
   "execution_count": 8,
   "metadata": {},
   "outputs": [],
   "source": [
    "c = a+ b\n",
    "c =list(set(c))"
   ]
  },
  {
   "cell_type": "code",
   "execution_count": 9,
   "metadata": {},
   "outputs": [
    {
     "data": {
      "text/plain": [
       "12254"
      ]
     },
     "execution_count": 9,
     "metadata": {},
     "output_type": "execute_result"
    }
   ],
   "source": [
    "len(c)"
   ]
  },
  {
   "cell_type": "code",
   "execution_count": 10,
   "metadata": {},
   "outputs": [],
   "source": [
    "example_voc = []\n",
    "for i in c:\n",
    "    if i in set(voc):\n",
    "        example_voc.append(i)"
   ]
  },
  {
   "cell_type": "code",
   "execution_count": 11,
   "metadata": {},
   "outputs": [],
   "source": [
    "total =len(example_voc)"
   ]
  },
  {
   "cell_type": "code",
   "execution_count": 12,
   "metadata": {},
   "outputs": [
    {
     "data": {
      "text/plain": [
       "12177"
      ]
     },
     "execution_count": 12,
     "metadata": {},
     "output_type": "execute_result"
    }
   ],
   "source": [
    "total"
   ]
  },
  {
   "cell_type": "code",
   "execution_count": 101,
   "metadata": {},
   "outputs": [],
   "source": [
    "import re\n",
    "import numpy as np\n",
    "pattern = re.compile(r'\\w+') \n",
    "\n",
    "def get_GaussianEmbedding(word):\n",
    "    hypo = lambda s: s.hyponyms()\n",
    "    syn =wn.synsets(word)\n",
    "    if len(syn) ==0:\n",
    "        mu = np.array(dic[word])[:,np.newaxis]\n",
    "        sigma = mu*mu.transpose()+ np.identity(50)*0.00001\n",
    "    else:\n",
    "        w = wn.synsets(word)[0]\n",
    "        l =list(w.closure(hypo))\n",
    "        if len(l)<2:\n",
    "            mu = np.array(dic[word])[:,np.newaxis]\n",
    "            sigma = mu*mu.transpose()+ np.identity(50)*0.00001\n",
    "        else:\n",
    "            new_list =[]\n",
    "            for i in l:\n",
    "                if '_' in str(i):\n",
    "                    continue\n",
    "                m=pattern.match(str(i)[8:])\n",
    "                if m != None:\n",
    "                    new_list.append(m.group(0))\n",
    "            if len(new_list) < 2:\n",
    "                mu = np.array(dic[word])[:,np.newaxis]\n",
    "                sigma = mu*mu.transpose()+ np.identity(50)*0.00001\n",
    "            else:\n",
    "                new_list2 =[]\n",
    "                for i in new_list:\n",
    "                    if i in set(voc):\n",
    "                        ele = np.array(dic[i])[:,np.newaxis]\n",
    "                        new_list2.append(ele)\n",
    "                n =len(new_list2)\n",
    "                if n < 2:\n",
    "                    mu = np.array(dic[word])[:,np.newaxis]\n",
    "                    sigma = mu*mu.transpose()+ np.identity(50)*0.00001\n",
    "                else:\n",
    "                    mu_total =np.zeros(shape=(50,1))\n",
    "                    for i in new_list2:\n",
    "                        mu_total = mu_total+i\n",
    "                    mu =mu_total/n\n",
    "\n",
    "                    sig_total = np.zeros(shape=(50,50))\n",
    "                    for i in range(n):\n",
    "                        sig = (new_list2[i]-mu)*(new_list2[i]-mu).transpose()\n",
    "                        sig_total= sig_total+sig\n",
    "                    sigma = sig_total/n + np.identity(50)*0.00001\n",
    "    return (mu,sigma)\n",
    "    "
   ]
  },
  {
   "cell_type": "code",
   "execution_count": 201,
   "metadata": {},
   "outputs": [],
   "source": [
    "Gaussian_dic ={}\n",
    "for i in range(total):\n",
    "    Gaussian_dic[example_voc[i]]= get_GaussianEmbedding(example_voc[i])"
   ]
  },
  {
   "cell_type": "code",
   "execution_count": 202,
   "metadata": {},
   "outputs": [
    {
     "data": {
      "text/plain": [
       "12177"
      ]
     },
     "execution_count": 202,
     "metadata": {},
     "output_type": "execute_result"
    }
   ],
   "source": [
    "len(Gaussian_dic)"
   ]
  },
  {
   "cell_type": "code",
   "execution_count": 203,
   "metadata": {},
   "outputs": [],
   "source": [
    "\n",
    "import pickle\n",
    "with open('./WordNet_Gauss.pickle', 'wb') as e:\n",
    "    pickle.dump(Gaussian_dic, e, protocol=pickle.HIGHEST_PROTOCOL)"
   ]
  },
  {
   "cell_type": "code",
   "execution_count": 13,
   "metadata": {},
   "outputs": [],
   "source": [
    "import pickle\n",
    "file = open('./WordNet_Gauss.pickle', 'rb')\n",
    "Gauss_dic =pickle.load(file)\n",
    "file.close()"
   ]
  },
  {
   "cell_type": "code",
   "execution_count": 25,
   "metadata": {},
   "outputs": [],
   "source": [
    "import numpy as np"
   ]
  },
  {
   "cell_type": "code",
   "execution_count": 24,
   "metadata": {},
   "outputs": [],
   "source": [
    "for i in range(12177):\n",
    "    t =np.trace(Gauss_dic[example_voc[i]][1])\n",
    "    norm = Gauss_dic[example_voc[i]][1]/t\n",
    "    Gauss_dic[example_voc[i]] = (Gauss_dic[example_voc[i]][0],norm)"
   ]
  },
  {
   "cell_type": "code",
   "execution_count": 26,
   "metadata": {},
   "outputs": [
    {
     "data": {
      "text/plain": [
       "1.0"
      ]
     },
     "execution_count": 26,
     "metadata": {},
     "output_type": "execute_result"
    }
   ],
   "source": [
    "np.trace( Gauss_dic[example_voc[3]][1])"
   ]
  },
  {
   "cell_type": "code",
   "execution_count": 27,
   "metadata": {},
   "outputs": [],
   "source": [
    "def KL_div(mui,muj, sigmai,sigmaj):\n",
    "    m = np.linalg.inv(sigmaj)\n",
    "    trace_fac = np.trace(np.dot(m,sigmai))\n",
    "    mu_diff = np.dot(np.dot((muj-mui).transpose(),m),muj-mui)\n",
    "    \n",
    "    det_fac = np.linalg.det(sigmai)/np.linalg.det(sigmaj)\n",
    "        \n",
    "        # boound def_fac\n",
    "    if det_fac < 1.0e-8:\n",
    "        det_fac = 1.0e-8\n",
    "    elif det_fac > 1.0e8:\n",
    "        det_fac = 1.0e8\n",
    "        \n",
    "    return 0.5*(trace_fac + mu_diff - 50 - np.log(det_fac))"
   ]
  },
  {
   "cell_type": "code",
   "execution_count": 30,
   "metadata": {},
   "outputs": [],
   "source": [
    "def get_repr(word1, word2):\n",
    "    a = Gauss_dic[word1]\n",
    "    b = Gauss_dic[word2]\n",
    "    KL  = KL_div(a[0],b[0],a[1],b[1])\n",
    "    result = 1/(1+KL)\n",
    "    return float(result)"
   ]
  },
  {
   "cell_type": "code",
   "execution_count": 31,
   "metadata": {},
   "outputs": [
    {
     "name": "stderr",
     "output_type": "stream",
     "text": [
      "C:\\ProgramData\\Anaconda3\\lib\\site-packages\\ipykernel_launcher.py:5: SettingWithCopyWarning: \n",
      "A value is trying to be set on a copy of a slice from a DataFrame\n",
      "\n",
      "See the caveats in the documentation: https://pandas.pydata.org/pandas-docs/stable/user_guide/indexing.html#returning-a-view-versus-a-copy\n",
      "  \"\"\"\n",
      "C:\\ProgramData\\Anaconda3\\lib\\site-packages\\ipykernel_launcher.py:6: RuntimeWarning: divide by zero encountered in double_scalars\n",
      "  \n",
      "C:\\ProgramData\\Anaconda3\\lib\\site-packages\\ipykernel_launcher.py:7: SettingWithCopyWarning: \n",
      "A value is trying to be set on a copy of a slice from a DataFrame\n",
      "\n",
      "See the caveats in the documentation: https://pandas.pydata.org/pandas-docs/stable/user_guide/indexing.html#returning-a-view-versus-a-copy\n",
      "  import sys\n",
      "C:\\ProgramData\\Anaconda3\\lib\\site-packages\\ipykernel_launcher.py:6: RuntimeWarning: invalid value encountered in double_scalars\n",
      "  \n"
     ]
    }
   ],
   "source": [
    "m = example.shape[0]\n",
    "\n",
    "for i in range(m):\n",
    "    if example.hypo[i] in Gauss_dic.keys() and example.hyper[i] in Gauss_dic.keys():\n",
    "        example.sim[i]= get_repr(example.hypo[i], example.hyper[i])\n",
    "    else:\n",
    "        example.is_oov[i] =1\n",
    "\n",
    "test =np.array(example).tolist()\n",
    "import csv\n",
    "with open(r'F:/MSc DS/Project/Github_resource/hypernymysuite/hypernymysuite-master/example/ke_wn.tsv','w',newline='') as f:\n",
    "    tsv_w= csv.writer(f, delimiter='\\t')\n",
    "    tsv_w.writerow(['hypo','hyper','sim','is_oov'])\n",
    "    tsv_w.writerows(test)"
   ]
  },
  {
   "cell_type": "code",
   "execution_count": 32,
   "metadata": {},
   "outputs": [
    {
     "data": {
      "text/html": [
       "<div>\n",
       "<style scoped>\n",
       "    .dataframe tbody tr th:only-of-type {\n",
       "        vertical-align: middle;\n",
       "    }\n",
       "\n",
       "    .dataframe tbody tr th {\n",
       "        vertical-align: top;\n",
       "    }\n",
       "\n",
       "    .dataframe thead th {\n",
       "        text-align: right;\n",
       "    }\n",
       "</style>\n",
       "<table border=\"1\" class=\"dataframe\">\n",
       "  <thead>\n",
       "    <tr style=\"text-align: right;\">\n",
       "      <th></th>\n",
       "      <th>hypo</th>\n",
       "      <th>hyper</th>\n",
       "      <th>sim</th>\n",
       "      <th>is_oov</th>\n",
       "    </tr>\n",
       "  </thead>\n",
       "  <tbody>\n",
       "    <tr>\n",
       "      <th>0</th>\n",
       "      <td>1840s</td>\n",
       "      <td>1850s</td>\n",
       "      <td>7.727173e-07</td>\n",
       "      <td>0</td>\n",
       "    </tr>\n",
       "    <tr>\n",
       "      <th>1</th>\n",
       "      <td>1850s</td>\n",
       "      <td>1860s</td>\n",
       "      <td>1.744545e-06</td>\n",
       "      <td>0</td>\n",
       "    </tr>\n",
       "    <tr>\n",
       "      <th>2</th>\n",
       "      <td>1880s</td>\n",
       "      <td>1890s</td>\n",
       "      <td>1.962705e-06</td>\n",
       "      <td>0</td>\n",
       "    </tr>\n",
       "    <tr>\n",
       "      <th>3</th>\n",
       "      <td>1890s</td>\n",
       "      <td>1900s</td>\n",
       "      <td>8.887129e-07</td>\n",
       "      <td>0</td>\n",
       "    </tr>\n",
       "    <tr>\n",
       "      <th>4</th>\n",
       "      <td>1910s</td>\n",
       "      <td>1920s</td>\n",
       "      <td>1.251807e-07</td>\n",
       "      <td>0</td>\n",
       "    </tr>\n",
       "    <tr>\n",
       "      <th>...</th>\n",
       "      <td>...</td>\n",
       "      <td>...</td>\n",
       "      <td>...</td>\n",
       "      <td>...</td>\n",
       "    </tr>\n",
       "    <tr>\n",
       "      <th>41177</th>\n",
       "      <td>zoom</td>\n",
       "      <td>india</td>\n",
       "      <td>2.629060e-08</td>\n",
       "      <td>0</td>\n",
       "    </tr>\n",
       "    <tr>\n",
       "      <th>41178</th>\n",
       "      <td>zoroastrianism</td>\n",
       "      <td>monotheism</td>\n",
       "      <td>3.012417e-07</td>\n",
       "      <td>0</td>\n",
       "    </tr>\n",
       "    <tr>\n",
       "      <th>41179</th>\n",
       "      <td>zucchini</td>\n",
       "      <td>food</td>\n",
       "      <td>2.857585e-03</td>\n",
       "      <td>0</td>\n",
       "    </tr>\n",
       "    <tr>\n",
       "      <th>41180</th>\n",
       "      <td>zucchini</td>\n",
       "      <td>novel</td>\n",
       "      <td>4.553075e-08</td>\n",
       "      <td>0</td>\n",
       "    </tr>\n",
       "    <tr>\n",
       "      <th>41181</th>\n",
       "      <td>zucchini</td>\n",
       "      <td>squash</td>\n",
       "      <td>3.414076e-06</td>\n",
       "      <td>0</td>\n",
       "    </tr>\n",
       "  </tbody>\n",
       "</table>\n",
       "<p>41182 rows × 4 columns</p>\n",
       "</div>"
      ],
      "text/plain": [
       "                 hypo       hyper           sim  is_oov\n",
       "0               1840s       1850s  7.727173e-07       0\n",
       "1               1850s       1860s  1.744545e-06       0\n",
       "2               1880s       1890s  1.962705e-06       0\n",
       "3               1890s       1900s  8.887129e-07       0\n",
       "4               1910s       1920s  1.251807e-07       0\n",
       "...               ...         ...           ...     ...\n",
       "41177            zoom       india  2.629060e-08       0\n",
       "41178  zoroastrianism  monotheism  3.012417e-07       0\n",
       "41179        zucchini        food  2.857585e-03       0\n",
       "41180        zucchini       novel  4.553075e-08       0\n",
       "41181        zucchini      squash  3.414076e-06       0\n",
       "\n",
       "[41182 rows x 4 columns]"
      ]
     },
     "execution_count": 32,
     "metadata": {},
     "output_type": "execute_result"
    }
   ],
   "source": [
    "example"
   ]
  },
  {
   "cell_type": "code",
   "execution_count": 35,
   "metadata": {},
   "outputs": [
    {
     "data": {
      "text/plain": [
       "100      1.240773e-07\n",
       "101      8.455430e-08\n",
       "102      5.993039e-03\n",
       "103      7.398951e-08\n",
       "104      6.833433e-08\n",
       "             ...     \n",
       "41177    2.629060e-08\n",
       "41178    3.012417e-07\n",
       "41179    2.857585e-03\n",
       "41180    4.553075e-08\n",
       "41181    3.414076e-06\n",
       "Name: sim, Length: 41082, dtype: float64"
      ]
     },
     "execution_count": 35,
     "metadata": {},
     "output_type": "execute_result"
    }
   ],
   "source": [
    "example.sim[100:]"
   ]
  },
  {
   "cell_type": "code",
   "execution_count": 71,
   "metadata": {},
   "outputs": [],
   "source": [
    "nans =[]\n",
    "for i in range(m):\n",
    "    if np.isnan(example.sim[i]):\n",
    "        nans.append(i)"
   ]
  },
  {
   "cell_type": "code",
   "execution_count": 72,
   "metadata": {},
   "outputs": [
    {
     "data": {
      "text/plain": [
       "[13678, 20062, 25809, 28414, 30966, 30986, 33910, 38657]"
      ]
     },
     "execution_count": 72,
     "metadata": {},
     "output_type": "execute_result"
    }
   ],
   "source": [
    "nans\n"
   ]
  },
  {
   "cell_type": "code",
   "execution_count": 102,
   "metadata": {},
   "outputs": [],
   "source": [
    "import re\n",
    "import numpy as np\n",
    "pattern = re.compile(r'\\w+') \n",
    "\n",
    "def get_GaussianEmbedding2(word):\n",
    "    hypo = lambda s: s.hyponyms()\n",
    "    syn =wn.synsets(word)\n",
    "    if len(syn) ==0:\n",
    "        mu = np.array(dic[word])[:,np.newaxis]\n",
    "        sigma = mu*mu.transpose()+ np.identity(50)*0.0001\n",
    "    else:\n",
    "        w = wn.synsets(word)[0]\n",
    "        l =list(w.closure(hypo))\n",
    "        if len(l)<2:\n",
    "            mu = np.array(dic[word])[:,np.newaxis]\n",
    "            sigma = mu*mu.transpose()+ np.identity(50)*0.0001\n",
    "        else:\n",
    "            new_list =[]\n",
    "            for i in l:\n",
    "                if '_' in str(i):\n",
    "                    continue\n",
    "                m=pattern.match(str(i)[8:])\n",
    "                if m != None:\n",
    "                    new_list.append(m.group(0))\n",
    "            if len(new_list) < 2:\n",
    "                mu = np.array(dic[word])[:,np.newaxis]\n",
    "                sigma = mu*mu.transpose()+ np.identity(50)*0.0001\n",
    "            else:\n",
    "                new_list2 =[]\n",
    "                for i in new_list:\n",
    "                    if i in set(voc):\n",
    "                        ele = np.array(dic[i])[:,np.newaxis]\n",
    "                        new_list2.append(ele)\n",
    "                n =len(new_list2)\n",
    "                if n < 2:\n",
    "                    mu = np.array(dic[word])[:,np.newaxis]\n",
    "                    sigma = mu*mu.transpose()+ np.identity(50)*0.0001\n",
    "                else:\n",
    "                    mu_total =np.zeros(shape=(50,1))\n",
    "                    for i in new_list2:\n",
    "                        mu_total = mu_total+i\n",
    "                    mu =mu_total/n\n",
    "\n",
    "                    sig_total = np.zeros(shape=(50,50))\n",
    "                    for i in range(n):\n",
    "                        sig = (new_list2[i]-mu)*(new_list2[i]-mu).transpose()\n",
    "                        sig_total= sig_total+sig\n",
    "                    sigma = sig_total/n + np.identity(50)*0.0001\n",
    "    return (mu,sigma)"
   ]
  },
  {
   "cell_type": "code",
   "execution_count": null,
   "metadata": {},
   "outputs": [],
   "source": [
    "for i in range(12177):\n",
    "    t =np.trace(Gauss_dic[example_voc[i]][1])\n",
    "    norm = Gauss_dic[example_voc[i]][1]/t\n",
    "    Gauss_dic[example_voc[i]] = (Gauss_dic[example_voc[i]][0],norm)"
   ]
  },
  {
   "cell_type": "code",
   "execution_count": 109,
   "metadata": {},
   "outputs": [
    {
     "name": "stderr",
     "output_type": "stream",
     "text": [
      "C:\\ProgramData\\Anaconda3\\lib\\site-packages\\ipykernel_launcher.py:10: SettingWithCopyWarning: \n",
      "A value is trying to be set on a copy of a slice from a DataFrame\n",
      "\n",
      "See the caveats in the documentation: https://pandas.pydata.org/pandas-docs/stable/user_guide/indexing.html#returning-a-view-versus-a-copy\n",
      "  # Remove the CWD from sys.path while we load stuff.\n"
     ]
    }
   ],
   "source": [
    "for i in nans:\n",
    "    word1=example.hypo[i]\n",
    "    word2=example.hyper[i]\n",
    "    a =get_GaussianEmbedding2(word1)\n",
    "    b =get_GaussianEmbedding2(word2)\n",
    "    a1_norm = a[1]/np.trace(a[1])\n",
    "    b1_norm = b[1]/np.trace(b[1])\n",
    "    KL  = KL_div(a[0],b[0],a1_norm,b1_norm)\n",
    "    result = float(1/(1+KL))\n",
    "    example.sim[i] = result"
   ]
  },
  {
   "cell_type": "code",
   "execution_count": 110,
   "metadata": {},
   "outputs": [],
   "source": [
    "nans =[]\n",
    "for i in range(m):\n",
    "    if np.isnan(example.sim[i]):\n",
    "        nans.append(i)"
   ]
  },
  {
   "cell_type": "code",
   "execution_count": 111,
   "metadata": {},
   "outputs": [],
   "source": [
    "test =np.array(example).tolist()\n",
    "import csv\n",
    "with open(r'F:/MSc DS/Project/Github_resource/hypernymysuite/hypernymysuite-master/example/ke_wn.tsv','w',newline='') as f:\n",
    "    tsv_w= csv.writer(f, delimiter='\\t')\n",
    "    tsv_w.writerow(['hypo','hyper','sim','is_oov'])\n",
    "    tsv_w.writerows(test)"
   ]
  },
  {
   "cell_type": "code",
   "execution_count": null,
   "metadata": {},
   "outputs": [],
   "source": []
  }
 ],
 "metadata": {
  "kernelspec": {
   "display_name": "Python 3",
   "language": "python",
   "name": "python3"
  },
  "language_info": {
   "codemirror_mode": {
    "name": "ipython",
    "version": 3
   },
   "file_extension": ".py",
   "mimetype": "text/x-python",
   "name": "python",
   "nbconvert_exporter": "python",
   "pygments_lexer": "ipython3",
   "version": "3.7.4"
  }
 },
 "nbformat": 4,
 "nbformat_minor": 2
}
